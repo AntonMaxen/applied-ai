{
 "cells": [
  {
   "cell_type": "code",
   "execution_count": 56,
   "metadata": {},
   "outputs": [],
   "source": [
    "import torch\n",
    "import torch.nn as nn\n",
    "import torchvision as tv\n",
    "from torchvision.datasets import FashionMNIST\n",
    "from torch.utils.data import DataLoader, Subset\n",
    "from torch.autograd import Variable\n",
    "import numpy as np\n",
    "import matplotlib.pyplot as plt\n",
    "from torch.optim import Adam, SGD\n",
    "import seaborn as sns\n",
    "from sklearn.metrics import confusion_matrix"
   ]
  },
  {
   "cell_type": "markdown",
   "metadata": {},
   "source": [
    "# Functions"
   ]
  },
  {
   "cell_type": "code",
   "execution_count": 22,
   "metadata": {},
   "outputs": [],
   "source": [
    "class_name = lambda cls: str(cls).split(\"<class '\")[1].split(\"'>\")[0].split(\".\")[-1]\n",
    "\n",
    "\n",
    "def image_dataset_merge(rows, cols, dataset):\n",
    "    subset = torch.utils.data.Subset(dataset, np.arange(rows*cols))\n",
    "\n",
    "    row_images = []\n",
    "    for i in range(rows):\n",
    "        row = torch.utils.data.Subset(subset, np.arange(i*cols, (i*cols) + cols))\n",
    "        images = [a[0][0].numpy() for a in row]\n",
    "        row_images.append(np.concatenate(images, axis=1))\n",
    "\n",
    "    tot_image = np.concatenate(row_images)\n",
    "\n",
    "    return tot_image\n",
    "\n",
    "\n",
    "def filter_dataset(dataset, func):\n",
    "    target_indices = np.arange(len(dataset.targets))\n",
    "    mask = func(dataset.targets).numpy()\n",
    "    mask_idx = target_indices[mask]\n",
    "    subset = torch.utils.data.Subset(dataset, mask_idx)\n",
    "    return subset\n",
    "\n",
    "\n",
    "def train_and_save(train_loader, val_loader, load_model=False, model_path='./data/model.pth', opt=Adam, er=nn.CrossEntropyLoss, learning_rate=0.001, num_epochs=10):\n",
    "    if load_model:\n",
    "        model = torch.load(model_path)\n",
    "    else:\n",
    "        model = CNN()\n",
    "\n",
    "    model.to(device)\n",
    "\n",
    "    optimizer=opt(model.parameters(), lr=learning_rate)\n",
    "    error = er()\n",
    "\n",
    "    for i in range(num_epochs):\n",
    "        model.fit(optimizer, error, train_loader)\n",
    "        model.validate(val_loader)\n",
    "        print(f\"Epoch[{i+1}/{num_epochs}]: Iteration: {model.iterations}, Loss: {model.losses[model.iterations]}, Accuracy: {model.accuracys[model.iterations]}\")\n",
    "\n",
    "\n",
    "    torch.save(model, model_path)\n",
    "\n",
    "    losses = model.losses.copy()\n",
    "    losses = [(k, v) for k, v in losses.items() if k % 500 == 0]\n",
    "    sorted_losses = sorted(losses, key=lambda x: x[1])\n",
    "\n",
    "    best = {\n",
    "        'optimizer': class_name(opt),\n",
    "        'error': class_name(er),\n",
    "        'loss': sorted_losses[0][1],\n",
    "        'iteration': sorted_losses[0][0],\n",
    "        'accuracy': model.accuracys[sorted_losses[0][0]],\n",
    "        'learning_rate': learning_rate\n",
    "    }\n",
    "    return model, best"
   ]
  },
  {
   "cell_type": "markdown",
   "metadata": {},
   "source": [
    "# Checking if gpu is available"
   ]
  },
  {
   "cell_type": "code",
   "execution_count": 3,
   "metadata": {},
   "outputs": [
    {
     "name": "stdout",
     "output_type": "stream",
     "text": [
      "cuda\n"
     ]
    }
   ],
   "source": [
    "device = torch.device('cuda' if torch.cuda.is_available() else 'cpu')\n",
    "print(device)"
   ]
  },
  {
   "cell_type": "markdown",
   "metadata": {},
   "source": [
    "# Data loading"
   ]
  },
  {
   "cell_type": "code",
   "execution_count": 5,
   "metadata": {},
   "outputs": [
    {
     "name": "stdout",
     "output_type": "stream",
     "text": [
      "Dataset FashionMNIST\n",
      "    Number of datapoints: 60000\n",
      "    Split: train\n",
      "    Root Location: ./data\n",
      "    Transforms (if any): ToTensor()\n",
      "    Target Transforms (if any): None\n",
      "The dataset FashionMNIST have 60000 datapoints.\n"
     ]
    }
   ],
   "source": [
    "# Fashion MNIST dataset \n",
    "dataset = tv.datasets.FashionMNIST(\n",
    "    root='./data',\n",
    "    train=True,\n",
    "    transform=tv.transforms.ToTensor(),\n",
    "    download=True\n",
    ")\n",
    "\n",
    "test_set = tv.datasets.FashionMNIST(\n",
    "    root = './data',\n",
    "    train = False,\n",
    "    transform = tv.transforms.ToTensor(),\n",
    "    download = True\n",
    ")\n",
    "\n",
    "label_map = {\n",
    "    0: \"T-shirt/Top\",\n",
    "    1: \"Trouser\",\n",
    "    2: \"Pullover\",\n",
    "    3: \"Dress\",\n",
    "    4: \"Coat\", \n",
    "    5: \"Sandal\", \n",
    "    6: \"Shirt\",\n",
    "    7: \"Sneaker\",\n",
    "    8: \"Bag\",\n",
    "    9: \"Ankle Boot\"\n",
    "}\n",
    "\n",
    "print(dataset)\n",
    "print(f'The dataset FashionMNIST have 60000 datapoints.')"
   ]
  },
  {
   "cell_type": "code",
   "execution_count": 6,
   "metadata": {},
   "outputs": [],
   "source": [
    "batch_size = 100\n",
    "train_size = 50000\n",
    "val_size = 10000\n",
    "train_set, val_set = torch.utils.data.random_split(dataset, [train_size, val_size])\n",
    "\n",
    "# Data loader\n",
    "train_loader = torch.utils.data.DataLoader(\n",
    "    dataset=train_set, \n",
    "    batch_size=batch_size, \n",
    "    shuffle=True\n",
    ")\n",
    "\n",
    "val_loader = torch.utils.data.DataLoader(\n",
    "    dataset=val_set,\n",
    "    batch_size=batch_size,\n",
    "    shuffle=True\n",
    ")\n",
    "\n",
    "test_loader = torch.utils.data.DataLoader(\n",
    "    dataset=test_set, \n",
    "    batch_size=batch_size, \n",
    "    shuffle=False\n",
    ")"
   ]
  },
  {
   "cell_type": "code",
   "execution_count": 7,
   "metadata": {},
   "outputs": [
    {
     "data": {
      "text/plain": [
       "<matplotlib.image.AxesImage at 0x7fd6e04a9b50>"
      ]
     },
     "execution_count": 7,
     "metadata": {},
     "output_type": "execute_result"
    },
    {
     "data": {
      "image/png": "[encoded data removed]",
      "text/plain": [
       "<Figure size 432x288 with 1 Axes>"
      ]
     },
     "metadata": {
      "needs_background": "light"
     },
     "output_type": "display_data"
    }
   ],
   "source": [
    "subset = filter_dataset(dataset, lambda target: target == 8)\n",
    "img = image_dataset_merge(3, 10, subset)\n",
    "plt.imshow(img)"
   ]
  },
  {
   "cell_type": "markdown",
   "metadata": {},
   "source": [
    "# Model"
   ]
  },
  {
   "cell_type": "code",
   "execution_count": 8,
   "metadata": {},
   "outputs": [],
   "source": [
    "class CNN(nn.Module):\n",
    "    def __init__(self):\n",
    "        super(CNN, self).__init__()\n",
    "        self.losses = {}\n",
    "        self.accuracys = {}\n",
    "        self.iterations = 0\n",
    "        \n",
    "        self.l1 = nn.Sequential(\n",
    "            nn.Conv2d(in_channels=1, out_channels=32, kernel_size=3, padding=1),\n",
    "            nn.BatchNorm2d(32),\n",
    "            nn.ReLU(),\n",
    "            nn.MaxPool2d(kernel_size=2, stride=2)\n",
    "        )\n",
    "        \n",
    "        self.l2 = nn.Sequential(\n",
    "            nn.Conv2d(in_channels=32, out_channels=64, kernel_size=3),\n",
    "            nn.BatchNorm2d(64),\n",
    "            nn.ReLU(),\n",
    "            nn.MaxPool2d(2)\n",
    "        )\n",
    "        \n",
    "        self.fc1 = nn.Linear(in_features=64*6*6, out_features=600)\n",
    "        self.drop = nn.Dropout2d(0.25)\n",
    "        self.fc2 = nn.Linear(in_features=600, out_features=10)\n",
    "        \n",
    "    def forward(self, x):\n",
    "        out = self.l1(x)\n",
    "        out = self.l2(out)\n",
    "        out = out.view(out.size(0), -1)\n",
    "        out = self.fc1(out)\n",
    "        out = self.drop(out)\n",
    "        out = self.fc2(out)\n",
    "        \n",
    "        return out\n",
    "    \n",
    "    def fit(self, optimizer, error, train_loader):\n",
    "        for images, labels in train_loader:\n",
    "            self.iterations += 1\n",
    "\n",
    "            images, labels = images.to(device), labels.to(device)\n",
    "            train = Variable(images.view(100, 1, 28, 28))\n",
    "            #train = Variable(images)\n",
    "            labels = Variable(labels)\n",
    "\n",
    "            outputs = self.forward(train)\n",
    "            loss = error(outputs, labels)\n",
    "            optimizer.zero_grad()\n",
    "            loss.backward()\n",
    "            optimizer.step()\n",
    "\n",
    "            self.loss = loss\n",
    "            self.losses[self.iterations] = loss.data\n",
    "\n",
    "    \n",
    "    def validate(self, val_loader):\n",
    "        test_list = []\n",
    "        for images, labels in val_loader:\n",
    "            images, labels = images.to(device), labels.to(device)\n",
    "            val = Variable(images.view(100, 1, 28, 28))\n",
    "            outputs = self.forward(val)\n",
    "        \n",
    "            predictions = torch.max(outputs, 1)[1].to(device)\n",
    "\n",
    "            test_list.append({\n",
    "                'y_pred': predictions,\n",
    "                'y_true': labels,\n",
    "                'correct': (predictions == labels).sum(),\n",
    "                'length': len(labels)\n",
    "            })\n",
    "        \n",
    "        correct = sum([t['correct'] for t in test_list])\n",
    "        total = sum([t['length'] for t in test_list])\n",
    "        accuracy = correct * 100 / total\n",
    "\n",
    "        self.accuracys[self.iterations] = accuracy\n",
    "\n",
    "        return accuracy, test_list"
   ]
  },
  {
   "cell_type": "markdown",
   "metadata": {},
   "source": [
    "# Optimizers"
   ]
  },
  {
   "cell_type": "code",
   "execution_count": 14,
   "metadata": {},
   "outputs": [],
   "source": [
    "#Init list for best losses for each configuration.\n",
    "best_losses = []"
   ]
  },
  {
   "cell_type": "markdown",
   "metadata": {},
   "source": [
    "## Adam"
   ]
  },
  {
   "cell_type": "code",
   "execution_count": 15,
   "metadata": {},
   "outputs": [
    {
     "name": "stdout",
     "output_type": "stream",
     "text": [
      "Training Model with Adam Optimizer of learning rate: 0.0001\n",
      "Epoch[1/10]: Iteration: 500, Loss: 0.40151524543762207, Accuracy: 86.66999816894531\n",
      "Epoch[2/10]: Iteration: 1000, Loss: 0.24460001289844513, Accuracy: 87.79000091552734\n",
      "Epoch[3/10]: Iteration: 1500, Loss: 0.2863912284374237, Accuracy: 89.11000061035156\n",
      "Epoch[4/10]: Iteration: 2000, Loss: 0.2353467047214508, Accuracy: 89.38999938964844\n",
      "Epoch[5/10]: Iteration: 2500, Loss: 0.2457246631383896, Accuracy: 89.54000091552734\n",
      "Epoch[6/10]: Iteration: 3000, Loss: 0.2173171490430832, Accuracy: 89.93000030517578\n",
      "Epoch[7/10]: Iteration: 3500, Loss: 0.3086148798465729, Accuracy: 90.25\n",
      "Epoch[8/10]: Iteration: 4000, Loss: 0.1883855015039444, Accuracy: 89.97000122070312\n",
      "Epoch[9/10]: Iteration: 4500, Loss: 0.1386793553829193, Accuracy: 89.93000030517578\n",
      "Epoch[10/10]: Iteration: 5000, Loss: 0.22445036470890045, Accuracy: 90.3499984741211\n",
      "------------------------------------------------------------------------------------------------------------------------\n",
      "Training Model with Adam Optimizer of learning rate: 0.001\n",
      "Epoch[1/10]: Iteration: 500, Loss: 0.46267974376678467, Accuracy: 86.06999969482422\n",
      "Epoch[2/10]: Iteration: 1000, Loss: 0.35459986329078674, Accuracy: 89.18999481201172\n",
      "Epoch[3/10]: Iteration: 1500, Loss: 0.19732142984867096, Accuracy: 88.12999725341797\n",
      "Epoch[4/10]: Iteration: 2000, Loss: 0.1763567328453064, Accuracy: 90.1500015258789\n",
      "Epoch[5/10]: Iteration: 2500, Loss: 0.2188161015510559, Accuracy: 89.97000122070312\n",
      "Epoch[6/10]: Iteration: 3000, Loss: 0.15537600219249725, Accuracy: 90.20999908447266\n",
      "Epoch[7/10]: Iteration: 3500, Loss: 0.16531550884246826, Accuracy: 90.0\n",
      "Epoch[8/10]: Iteration: 4000, Loss: 0.1459660530090332, Accuracy: 90.90999603271484\n",
      "Epoch[9/10]: Iteration: 4500, Loss: 0.11415287107229233, Accuracy: 90.93000030517578\n",
      "Epoch[10/10]: Iteration: 5000, Loss: 0.1879134625196457, Accuracy: 90.70999908447266\n",
      "------------------------------------------------------------------------------------------------------------------------\n",
      "Training Model with Adam Optimizer of learning rate: 0.01\n",
      "Epoch[1/10]: Iteration: 500, Loss: 0.4171344041824341, Accuracy: 86.81999969482422\n",
      "Epoch[2/10]: Iteration: 1000, Loss: 0.20956508815288544, Accuracy: 88.79000091552734\n",
      "Epoch[3/10]: Iteration: 1500, Loss: 0.2816871404647827, Accuracy: 89.40999603271484\n",
      "Epoch[4/10]: Iteration: 2000, Loss: 0.24088241159915924, Accuracy: 89.25\n",
      "Epoch[5/10]: Iteration: 2500, Loss: 0.2150954306125641, Accuracy: 89.93000030517578\n",
      "Epoch[6/10]: Iteration: 3000, Loss: 0.11814059317111969, Accuracy: 89.27999877929688\n",
      "Epoch[7/10]: Iteration: 3500, Loss: 0.2125137895345688, Accuracy: 88.98999786376953\n",
      "Epoch[8/10]: Iteration: 4000, Loss: 0.19640403985977173, Accuracy: 89.25999450683594\n",
      "Epoch[9/10]: Iteration: 4500, Loss: 0.16544799506664276, Accuracy: 89.6199951171875\n",
      "Epoch[10/10]: Iteration: 5000, Loss: 0.23932789266109467, Accuracy: 89.25999450683594\n",
      "------------------------------------------------------------------------------------------------------------------------\n"
     ]
    }
   ],
   "source": [
    "learning_rates = [0.0001, 0.001, 0.01]\n",
    "for lr in learning_rates:\n",
    "    print(f'Training Model with Adam Optimizer of learning rate: {lr}')\n",
    "    model, best = train_and_save(train_loader, val_loader, opt=Adam, load_model=False, num_epochs=10, learning_rate=lr)\n",
    "    best_losses.append(best)\n",
    "    print('-' * 120)"
   ]
  },
  {
   "cell_type": "markdown",
   "metadata": {},
   "source": [
    "## SGD"
   ]
  },
  {
   "cell_type": "code",
   "execution_count": 16,
   "metadata": {},
   "outputs": [
    {
     "name": "stdout",
     "output_type": "stream",
     "text": [
      "Training Model with SGD Optimizer of learning rate: 0.001\n",
      "Epoch[1/10]: Iteration: 500, Loss: 0.7941475510597229, Accuracy: 75.66999816894531\n",
      "Epoch[2/10]: Iteration: 1000, Loss: 0.6083844900131226, Accuracy: 77.88999938964844\n",
      "Epoch[3/10]: Iteration: 1500, Loss: 0.4163448214530945, Accuracy: 80.56999969482422\n",
      "Epoch[4/10]: Iteration: 2000, Loss: 0.5053389072418213, Accuracy: 81.70999908447266\n",
      "Epoch[5/10]: Iteration: 2500, Loss: 0.5512950420379639, Accuracy: 83.07999420166016\n",
      "Epoch[6/10]: Iteration: 3000, Loss: 0.46618375182151794, Accuracy: 83.68999481201172\n",
      "Epoch[7/10]: Iteration: 3500, Loss: 0.33954277634620667, Accuracy: 84.29000091552734\n",
      "Epoch[8/10]: Iteration: 4000, Loss: 0.42361024022102356, Accuracy: 85.1199951171875\n",
      "Epoch[9/10]: Iteration: 4500, Loss: 0.4224521517753601, Accuracy: 85.47999572753906\n",
      "Epoch[10/10]: Iteration: 5000, Loss: 0.3779723644256592, Accuracy: 85.63999938964844\n",
      "------------------------------------------------------------------------------------------------------------------------\n",
      "Training Model with SGD Optimizer of learning rate: 0.01\n",
      "Epoch[1/10]: Iteration: 500, Loss: 0.40733012557029724, Accuracy: 83.65999603271484\n",
      "Epoch[2/10]: Iteration: 1000, Loss: 0.3138745427131653, Accuracy: 87.0\n",
      "Epoch[3/10]: Iteration: 1500, Loss: 0.33149445056915283, Accuracy: 87.41999816894531\n",
      "Epoch[4/10]: Iteration: 2000, Loss: 0.26573699712753296, Accuracy: 88.79999542236328\n",
      "Epoch[5/10]: Iteration: 2500, Loss: 0.4240192174911499, Accuracy: 88.93999481201172\n",
      "Epoch[6/10]: Iteration: 3000, Loss: 0.21950286626815796, Accuracy: 88.61000061035156\n",
      "Epoch[7/10]: Iteration: 3500, Loss: 0.27264508605003357, Accuracy: 88.38999938964844\n",
      "Epoch[8/10]: Iteration: 4000, Loss: 0.17502611875534058, Accuracy: 90.00999450683594\n",
      "Epoch[9/10]: Iteration: 4500, Loss: 0.15361011028289795, Accuracy: 89.8499984741211\n",
      "Epoch[10/10]: Iteration: 5000, Loss: 0.18660013377666473, Accuracy: 90.23999786376953\n",
      "------------------------------------------------------------------------------------------------------------------------\n",
      "Training Model with SGD Optimizer of learning rate: 0.1\n",
      "Epoch[1/10]: Iteration: 500, Loss: 0.88663649559021, Accuracy: 69.0999984741211\n",
      "Epoch[2/10]: Iteration: 1000, Loss: 0.654906153678894, Accuracy: 72.73999786376953\n",
      "Epoch[3/10]: Iteration: 1500, Loss: 0.5543777346611023, Accuracy: 75.11000061035156\n",
      "Epoch[4/10]: Iteration: 2000, Loss: 1.0236366987228394, Accuracy: 74.2699966430664\n",
      "Epoch[5/10]: Iteration: 2500, Loss: 0.518764853477478, Accuracy: 80.86000061035156\n",
      "Epoch[6/10]: Iteration: 3000, Loss: 0.45948630571365356, Accuracy: 82.44999694824219\n",
      "Epoch[7/10]: Iteration: 3500, Loss: 0.38551437854766846, Accuracy: 83.04000091552734\n",
      "Epoch[8/10]: Iteration: 4000, Loss: 0.30852416157722473, Accuracy: 84.33999633789062\n",
      "Epoch[9/10]: Iteration: 4500, Loss: 0.3488970100879669, Accuracy: 85.90999603271484\n",
      "Epoch[10/10]: Iteration: 5000, Loss: 0.21241621673107147, Accuracy: 85.9000015258789\n",
      "------------------------------------------------------------------------------------------------------------------------\n"
     ]
    }
   ],
   "source": [
    "learning_rates = [0.001, 0.01, 0.1]\n",
    "for lr in learning_rates:\n",
    "    print(f'Training Model with SGD Optimizer of learning rate: {lr}')\n",
    "    model, best = train_and_save(train_loader, val_loader, opt=SGD, load_model=False, num_epochs=10, learning_rate=lr)\n",
    "    best_losses.append(best)\n",
    "    print('-' * 120)"
   ]
  },
  {
   "cell_type": "markdown",
   "metadata": {},
   "source": [
    "Decide what lossfunction is best for classification"
   ]
  },
  {
   "cell_type": "code",
   "execution_count": 23,
   "metadata": {},
   "outputs": [
    {
     "name": "stdout",
     "output_type": "stream",
     "text": [
      "Configuration for lowest loss:\n",
      "------------------------------------------------------------------------------------------------------------------------\n",
      "optimizer: Adam\n",
      "error: CrossEntropyLoss\n",
      "loss: 0.11415287107229233\n",
      "iteration: 4500\n",
      "accuracy: 90.93000030517578\n",
      "learning_rate: 0.001\n",
      "------------------------------------------------------------------------------------------------------------------------\n",
      "Best Optimizer is Adam with the learning rate of 0.001\n"
     ]
    }
   ],
   "source": [
    "sorted_losses = sorted(best_losses, key=lambda x: x['loss'])\n",
    "best_loss = sorted_losses[0]\n",
    "print(\"Configuration for lowest loss:\")\n",
    "print(\"-\" * 120)\n",
    "for k, v in best_loss.items():\n",
    "    print(f'{k}: {v}')\n",
    "print(\"-\" * 120)\n",
    "print(f'Best Optimizer is {best_loss[\"optimizer\"]} with the learning rate of {best_loss[\"learning_rate\"]}')"
   ]
  },
  {
   "cell_type": "markdown",
   "metadata": {},
   "source": [
    "# Training"
   ]
  },
  {
   "cell_type": "code",
   "execution_count": 38,
   "metadata": {},
   "outputs": [
    {
     "name": "stdout",
     "output_type": "stream",
     "text": [
      "Epoch[1/10]: Iteration: 500, Loss: 0.40502798557281494, Accuracy: 87.88999938964844\n",
      "Epoch[2/10]: Iteration: 1000, Loss: 0.3458159565925598, Accuracy: 87.94999694824219\n",
      "Epoch[3/10]: Iteration: 1500, Loss: 0.2565733790397644, Accuracy: 89.6199951171875\n",
      "Epoch[4/10]: Iteration: 2000, Loss: 0.2331770360469818, Accuracy: 90.68000030517578\n",
      "Epoch[5/10]: Iteration: 2500, Loss: 0.2279711216688156, Accuracy: 90.22000122070312\n",
      "Epoch[6/10]: Iteration: 3000, Loss: 0.19207355380058289, Accuracy: 90.22000122070312\n",
      "Epoch[7/10]: Iteration: 3500, Loss: 0.13748854398727417, Accuracy: 90.6199951171875\n",
      "Epoch[8/10]: Iteration: 4000, Loss: 0.12968239188194275, Accuracy: 90.81999969482422\n",
      "Epoch[9/10]: Iteration: 4500, Loss: 0.1796010434627533, Accuracy: 90.97999572753906\n",
      "Epoch[10/10]: Iteration: 5000, Loss: 0.1442175805568695, Accuracy: 90.90999603271484\n"
     ]
    }
   ],
   "source": [
    "model, best = train_and_save(train_loader, val_loader, opt=Adam, load_model=False, model_path='./data/adam-lr-0001.pth',num_epochs=10, learning_rate=best_loss['learning_rate'])"
   ]
  },
  {
   "cell_type": "markdown",
   "metadata": {},
   "source": [
    "## Iterations vs Loss"
   ]
  },
  {
   "cell_type": "code",
   "execution_count": 40,
   "metadata": {},
   "outputs": [
    {
     "data": {
      "image/png": "[encoded data removed]",
      "text/plain": [
       "<Figure size 432x288 with 1 Axes>"
      ]
     },
     "metadata": {
      "needs_background": "light"
     },
     "output_type": "display_data"
    }
   ],
   "source": [
    "sorted_losses = sorted(model.losses.items(), key=lambda x: x[0])\n",
    "iterations, losses = zip(*sorted_losses)\n",
    "iterations = iterations[100:]\n",
    "np_losses = [loss.cpu().numpy() for loss in losses][100:]\n",
    "\n",
    "iterations = [n for i, n in enumerate(iterations) if i % 250 == 0]\n",
    "np_losses = [n for i, n in enumerate(np_losses) if i % 250 == 0]\n",
    "\n",
    "plt.plot(iterations, np_losses)\n",
    "plt.xlabel(\"Iterations\")\n",
    "plt.ylabel(\"Loss\")\n",
    "plt.title(\"Iterations vs Loss\")\n",
    "plt.show()"
   ]
  },
  {
   "cell_type": "markdown",
   "metadata": {},
   "source": [
    "## Iterations Vs Accuracy"
   ]
  },
  {
   "cell_type": "code",
   "execution_count": 41,
   "metadata": {},
   "outputs": [
    {
     "data": {
      "image/png": "[encoded data removed]",
      "text/plain": [
       "<Figure size 432x288 with 1 Axes>"
      ]
     },
     "metadata": {
      "needs_background": "light"
     },
     "output_type": "display_data"
    }
   ],
   "source": [
    "sorted_accuracys = sorted(model.accuracys.items(), key=lambda x: x[0])Epoch[9/14]: Iteration: 4500, Loss: 0.1681900918483734, Accuracy: 90.93000030517578\n",
    "iterations, accuracys = zip(*sorted_accuracys)\n",
    "np_accuracys = [a.cpu().numpy() for a in accuracys]\n",
    "plt.plot(iterations, np_accuracys)\n",
    "\n",
    "plt.xlabel(\"Iterations\")\n",
    "plt.ylabel(\"Accuracy\")\n",
    "plt.title(\"Iterations vs Accuracy\")\n",
    "plt.show()"
   ]
  },
  {
   "cell_type": "markdown",
   "metadata": {},
   "source": [
    "## Confusion Matrix"
   ]
  },
  {
   "cell_type": "code",
   "execution_count": 60,
   "metadata": {},
   "outputs": [
    {
     "name": "stdout",
     "output_type": "stream",
     "text": [
      "[[896   1  13  18   1   2  65   0   4   0]\n",
      " [  0 983   0  12   1   0   2   0   2   0]\n",
      " [ 20   1 875  15  49   2  38   0   0   0]\n",
      " [ 28   3   8 925   9   0  27   0   0   0]\n",
      " [  2   0  42  34 875   0  45   0   2   0]\n",
      " [  0   0   0   1   0 989   0   7   0   3]\n",
      " [142   1  56  23  82   0 689   0   7   0]\n",
      " [  0   0   0   0   0  27   0 893   1  79]\n",
      " [  3   0   2   5   2   1   1   2 984   0]\n",
      " [  0   0   1   0   0  10   1   7   0 981]]\n"
     ]
    }
   ],
   "source": [
    "model = torch.load('./data/adam-lr-0001.pth')\n",
    "y_pred = []\n",
    "y_true = []\n",
    "\n",
    "for images, labels in test_loader:\n",
    "    images, labels = images.to(device), labels.to(device)\n",
    "    x = Variable(images.view(100, 1, 28, 28))\n",
    "    outputs = model(x)\n",
    "    predictions = torch.max(outputs, 1)[1].to(device)\n",
    "\n",
    "    y_true.extend(labels.cpu().numpy())\n",
    "    y_pred.extend(predictions.cpu().numpy())\n",
    "\n",
    "\n",
    "cf_matrix = confusion_matrix(y_true, y_pred)\n",
    "print(cf_matrix)"
   ]
  }
 ],
 "metadata": {
  "interpreter": {
   "hash": "8034bb673411d43a8ead9cbef07622a87e42e0a8dafdb262a436f0c34095fc72"
  },
  "kernelspec": {
   "display_name": "Python 3.9.7 64-bit ('base': conda)",
   "language": "python",
   "name": "python3"
  },
  "language_info": {
   "codemirror_mode": {
    "name": "ipython",
    "version": 3
   },
   "file_extension": ".py",
   "mimetype": "text/x-python",
   "name": "python",
   "nbconvert_exporter": "python",
   "pygments_lexer": "ipython3",
   "version": "3.9.7"
  },
  "orig_nbformat": 4
 },
 "nbformat": 4,
 "nbformat_minor": 2
}
