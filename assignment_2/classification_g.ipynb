{
 "cells": [
  {
   "cell_type": "code",
   "execution_count": 75,
   "metadata": {},
   "outputs": [],
   "source": [
    "import pandas as pd\n",
    "import numpy as np\n",
    "import matplotlib.pyplot as plt\n",
    "from sklearn.preprocessing import StandardScaler\n",
    "from sklearn.model_selection import train_test_split\n",
    "from sklearn.metrics import f1_score, fbeta_score\n",
    "from sklearn.svm import SVC\n",
    "from sklearn.metrics import confusion_matrix, classification_report\n",
    "import seaborn as sns\n",
    "from itertools import product\n",
    "from umap import UMAP"
   ]
  },
  {
   "cell_type": "markdown",
   "metadata": {},
   "source": [
    "### Functions"
   ]
  },
  {
   "cell_type": "code",
   "execution_count": 65,
   "metadata": {},
   "outputs": [],
   "source": [
    "def plot_confustion_matrix(y_true, y_pred):\n",
    "    c_matrix = confusion_matrix(y_true, y_pred)\n",
    "    group_names = ['True Negative','False Positive','False Negative','True Positive']\n",
    "    group_counts = [f'Count {value}' for value in c_matrix.flatten()]\n",
    "    group_percentages = ['{0:.2%}'.format(value) for value in c_matrix.flatten() / np.sum(c_matrix)]\n",
    "    labels = [f'{v1}\\n{v2}\\n{v3}' for v1, v2, v3 in zip(group_names, group_counts, group_percentages)]\n",
    "    labels = np.asarray(labels).reshape(2,2)\n",
    "    sns.heatmap(c_matrix, annot=labels, fmt='', cmap='Blues')\n",
    "    plt.show()"
   ]
  },
  {
   "cell_type": "markdown",
   "metadata": {},
   "source": [
    "### Data analysis"
   ]
  },
  {
   "cell_type": "code",
   "execution_count": 66,
   "metadata": {},
   "outputs": [
    {
     "data": {
      "text/plain": [
       "(116, 160)"
      ]
     },
     "execution_count": 66,
     "metadata": {},
     "output_type": "execute_result"
    }
   ],
   "source": [
    "test_df = pd.read_csv('./data/class_test.csv')\n",
    "train_df = pd.read_csv('./data/class_train.csv')\n",
    "concat_df = pd.concat([test_df, train_df])\n",
    "concat_df.shape"
   ]
  },
  {
   "cell_type": "code",
   "execution_count": 67,
   "metadata": {},
   "outputs": [
    {
     "name": "stdout",
     "output_type": "stream",
     "text": [
      "The dataset contains: 2 classes [0, 1]\n",
      "The dataset contains: 2 different datatypes [float64, int64]\n",
      "Concatenated dataset contains: 116 rows with the class balances [1: 64, 0: 52]\n",
      "Train dataset contains: 91 rows with the class balances [1: 56, 0: 35]\n",
      "Test dataset contains: 25 rows with the class balances [0: 17, 1: 8]\n",
      "The dataset has not null values.\n"
     ]
    }
   ],
   "source": [
    "classes = concat_df['Outcome'].unique()\n",
    "unique_dtypes = concat_df.dtypes.unique()\n",
    "concat_class_counts = concat_df['Outcome'].value_counts()\n",
    "train_class_counts = train_df['Outcome'].value_counts()\n",
    "test_class_counts = test_df['Outcome'].value_counts()\n",
    "contains_null_values = concat_df.isnull().values.any()\n",
    "list_to_str = lambda x: \", \".join([str(item) for item in x])\n",
    "class_counts_to_list = lambda class_count: [f\"{key}: {item}\" for key, item in class_count.items()] \n",
    "\n",
    "print(f'The dataset contains: {len(classes)} classes [{list_to_str(classes)}]')\n",
    "print(f'The dataset contains: {len(unique_dtypes)} different datatypes [{list_to_str(unique_dtypes)}]')\n",
    "print(f'Concatenated dataset contains: {concat_df.shape[0]} rows with the class balances [{list_to_str(class_counts_to_list(concat_class_counts))}]')\n",
    "print(f'Train dataset contains: {train_df.shape[0]} rows with the class balances [{list_to_str(class_counts_to_list(train_class_counts))}]')\n",
    "print(f'Test dataset contains: {test_df.shape[0]} rows with the class balances [{list_to_str(class_counts_to_list(test_class_counts))}]')\n",
    "print(f'The dataset has {\"not \" if not contains_null_values else \"\"}null values.')\n"
   ]
  },
  {
   "cell_type": "markdown",
   "metadata": {},
   "source": [
    "### Preprocessing"
   ]
  },
  {
   "cell_type": "code",
   "execution_count": 68,
   "metadata": {},
   "outputs": [],
   "source": [
    "x = concat_df.copy()\n",
    "y = x.pop('Outcome')\n",
    "\n",
    "# scale the data\n",
    "scaler = StandardScaler()\n",
    "scaled_x = scaler.fit_transform(x)"
   ]
  },
  {
   "cell_type": "markdown",
   "metadata": {},
   "source": [
    "##### Hanterar först obalans mellan training data och test data"
   ]
  },
  {
   "cell_type": "code",
   "execution_count": 69,
   "metadata": {},
   "outputs": [],
   "source": [
    "# With the concatenated dataset we can now split the data more evenly with the use of stratify.\n",
    "x_train, x_test, y_train, y_test = train_test_split(scaled_x, y, test_size=0.2, random_state=42, shuffle=True, stratify=y)"
   ]
  },
  {
   "cell_type": "code",
   "execution_count": 70,
   "metadata": {},
   "outputs": [
    {
     "name": "stdout",
     "output_type": "stream",
     "text": [
      "Old Train dataset contains: 91 rows with the class balances [1: 56, 0: 35]\n",
      "Old Test dataset contains: 25 rows with the class balances [0: 17, 1: 8]\n",
      "--------------------------------------------------------------------------------\n",
      "New Train dataset contains: 92 rows with the class balances [1: 51, 0: 41]\n",
      "New Test dataset contains: 24 rows with the class balances [1: 13, 0: 11]\n",
      "--------------------------------------------------------------------------------\n",
      "New train and test are more balanced.\n"
     ]
    }
   ],
   "source": [
    "new_train_class_balance = y_train.value_counts()\n",
    "new_test_class_balances = y_test.value_counts()\n",
    "\n",
    "\n",
    "print(f'Old Train dataset contains: {train_df.shape[0]} rows with the class balances [{list_to_str(class_counts_to_list(train_class_counts))}]')\n",
    "print(f'Old Test dataset contains: {test_df.shape[0]} rows with the class balances [{list_to_str(class_counts_to_list(test_class_counts))}]')\n",
    "print('-' * 80)\n",
    "print(f'New Train dataset contains: {y_train.shape[0]} rows with the class balances [{list_to_str(class_counts_to_list(new_train_class_balance))}]')\n",
    "print(f'New Test dataset contains: {y_test.shape[0]} rows with the class balances [{list_to_str(class_counts_to_list(new_test_class_balances))}]')\n",
    "print('-' * 80)\n",
    "print(f'New train and test are more balanced.')\n"
   ]
  },
  {
   "cell_type": "markdown",
   "metadata": {},
   "source": [
    "## baseline"
   ]
  },
  {
   "cell_type": "code",
   "execution_count": 71,
   "metadata": {},
   "outputs": [
    {
     "name": "stdout",
     "output_type": "stream",
     "text": [
      "Train score: 0.9347826086956522\n",
      "Test score: 0.625\n",
      "--------------------------------------------------------------------------------\n",
      "The f1 score is: 0.608695652173913\n",
      "The fbeta scora is: 0.6603773584905661\n"
     ]
    }
   ],
   "source": [
    "clf_svm = SVC(kernel='rbf')\n",
    "clf_svm.fit(x_train, y_train)\n",
    "\n",
    "train_score = clf_svm.score(x_train, y_train)\n",
    "test_score = clf_svm.score(x_test, y_test)\n",
    "predictions = clf_svm.predict(x_test)\n",
    "\n",
    "f_one_score = f1_score(y_test, predictions)\n",
    "f_beta_score = fbeta_score(y_test, predictions, beta=0.5)\n",
    "\n",
    "\n",
    "print(f'Train score: {train_score}')\n",
    "print(f'Test score: {test_score}')\n",
    "print('-' * 80)\n",
    "print(f'The f1 score is: {f_one_score}')\n",
    "print(f'The fbeta scora is: {f_beta_score}')"
   ]
  },
  {
   "cell_type": "code",
   "execution_count": 72,
   "metadata": {},
   "outputs": [
    {
     "data": {
      "image/png": "[encoded data removed]",
      "text/plain": [
       "<Figure size 432x288 with 2 Axes>"
      ]
     },
     "metadata": {
      "needs_background": "light"
     },
     "output_type": "display_data"
    }
   ],
   "source": [
    "c_matrix = plot_confustion_matrix(y_test, predictions)"
   ]
  },
  {
   "cell_type": "markdown",
   "metadata": {},
   "source": [
    "## Model"
   ]
  },
  {
   "cell_type": "markdown",
   "metadata": {},
   "source": [
    "### Grid Search within range of values to find best hypeparameters."
   ]
  },
  {
   "cell_type": "code",
   "execution_count": 93,
   "metadata": {},
   "outputs": [
    {
     "name": "stdout",
     "output_type": "stream",
     "text": [
      "(array([0.38063063]), array([90], dtype=int64))\n",
      "The best score is 0.38063063063063063\n"
     ]
    }
   ],
   "source": [
    "kernels = ['rbf']\n",
    "gammas = [1.2, 0.5, 0.3]\n",
    "cs = [0.2*x + 1 for x in range(30)]\n",
    "variations = list(product(kernels, gammas, cs))\n",
    "\n",
    "scores = [f1_score(y_test, SVC(kernel=k, C=c, gamma=g).fit(x_train, y_train).predict(x_test), average='weighted') for k, g, c in variations]\n",
    "\n",
    "print(np.unique(scores, return_counts=True))\n",
    "print(f'The best score is {np.max(scores)}')"
   ]
  },
  {
   "cell_type": "code",
   "execution_count": 94,
   "metadata": {},
   "outputs": [
    {
     "name": "stdout",
     "output_type": "stream",
     "text": [
      "(array([0.58333333, 0.60009488, 0.61479129, 0.62304348, 0.62565217,\n",
      "       0.65185185, 0.66190476, 0.66666667, 0.70679012]), array([ 3, 51,  3,  6,  6,  6,  9,  3,  3], dtype=int64))\n",
      "The best score is 0.70679012345679\n"
     ]
    }
   ],
   "source": [
    "kernels = ['linear']\n",
    "cs = np.linspace(0.000000001, 5, num=10)\n",
    "vaiations = list(product(kernels, cs))\n",
    "scores = [f1_score(y_test, SVC(kernel=k, C=c).fit(x_train, y_train).predict(x_test), average='weighted') for k, g, c in variations]\n",
    "print(np.unique(scores, return_counts=True))\n",
    "print(f'The best score is {np.max(scores)}')"
   ]
  },
  {
   "cell_type": "markdown",
   "metadata": {},
   "source": [
    "##### To get better scores we need to for example reduce noise in the data, more on that in VG version."
   ]
  }
 ],
 "metadata": {
  "interpreter": {
   "hash": "6a5f0f0fe85b899b23e092f5989e850d9414f74e6288713926b25d15be270631"
  },
  "kernelspec": {
   "display_name": "Python 3.9.7 64-bit ('venv': venv)",
   "language": "python",
   "name": "python3"
  },
  "language_info": {
   "codemirror_mode": {
    "name": "ipython",
    "version": 3
   },
   "file_extension": ".py",
   "mimetype": "text/x-python",
   "name": "python",
   "nbconvert_exporter": "python",
   "pygments_lexer": "ipython3",
   "version": "3.9.7"
  },
  "orig_nbformat": 4
 },
 "nbformat": 4,
 "nbformat_minor": 2
}
