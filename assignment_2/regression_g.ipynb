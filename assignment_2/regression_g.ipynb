{
 "cells": [
  {
   "cell_type": "code",
   "execution_count": 1,
   "metadata": {},
   "outputs": [],
   "source": [
    "import pandas as pd\n",
    "from sklearn.preprocessing import OneHotEncoder\n",
    "import seaborn as sns\n",
    "import matplotlib.pyplot as plt\n",
    "from sklearn.ensemble import RandomForestRegressor\n",
    "from sklearn.model_selection import train_test_split\n",
    "from sklearn.metrics import mean_squared_error\n",
    "import numpy as np"
   ]
  },
  {
   "cell_type": "code",
   "execution_count": 2,
   "metadata": {},
   "outputs": [],
   "source": [
    "train_df = pd.read_csv('./data/regression_train.csv')\n",
    "test_df = pd.read_csv('./data/regression_test.csv')\n",
    "concat_df = pd.concat([train_df, test_df])"
   ]
  },
  {
   "cell_type": "markdown",
   "metadata": {},
   "source": [
    "#### Analyze"
   ]
  },
  {
   "cell_type": "code",
   "execution_count": 3,
   "metadata": {},
   "outputs": [
    {
     "data": {
      "text/html": [
       "<div>\n",
       "<style scoped>\n",
       "    .dataframe tbody tr th:only-of-type {\n",
       "        vertical-align: middle;\n",
       "    }\n",
       "\n",
       "    .dataframe tbody tr th {\n",
       "        vertical-align: top;\n",
       "    }\n",
       "\n",
       "    .dataframe thead th {\n",
       "        text-align: right;\n",
       "    }\n",
       "</style>\n",
       "<table border=\"1\" class=\"dataframe\">\n",
       "  <thead>\n",
       "    <tr style=\"text-align: right;\">\n",
       "      <th></th>\n",
       "      <th>MSSubClass</th>\n",
       "      <th>MSZoning</th>\n",
       "      <th>LotFrontage</th>\n",
       "      <th>LotArea</th>\n",
       "      <th>Street</th>\n",
       "      <th>Alley</th>\n",
       "      <th>LotShape</th>\n",
       "      <th>LandContour</th>\n",
       "      <th>Utilities</th>\n",
       "      <th>LotConfig</th>\n",
       "      <th>...</th>\n",
       "      <th>PoolArea</th>\n",
       "      <th>PoolQC</th>\n",
       "      <th>Fence</th>\n",
       "      <th>MiscFeature</th>\n",
       "      <th>MiscVal</th>\n",
       "      <th>MoSold</th>\n",
       "      <th>YrSold</th>\n",
       "      <th>SaleType</th>\n",
       "      <th>SaleCondition</th>\n",
       "      <th>SalePrice</th>\n",
       "    </tr>\n",
       "  </thead>\n",
       "  <tbody>\n",
       "    <tr>\n",
       "      <th>0</th>\n",
       "      <td>60</td>\n",
       "      <td>RL</td>\n",
       "      <td>65.0</td>\n",
       "      <td>8125</td>\n",
       "      <td>Pave</td>\n",
       "      <td>NaN</td>\n",
       "      <td>Reg</td>\n",
       "      <td>Lvl</td>\n",
       "      <td>AllPub</td>\n",
       "      <td>Inside</td>\n",
       "      <td>...</td>\n",
       "      <td>0</td>\n",
       "      <td>NaN</td>\n",
       "      <td>NaN</td>\n",
       "      <td>NaN</td>\n",
       "      <td>0</td>\n",
       "      <td>3</td>\n",
       "      <td>2009</td>\n",
       "      <td>WD</td>\n",
       "      <td>Normal</td>\n",
       "      <td>174000</td>\n",
       "    </tr>\n",
       "    <tr>\n",
       "      <th>1</th>\n",
       "      <td>80</td>\n",
       "      <td>RL</td>\n",
       "      <td>75.0</td>\n",
       "      <td>9750</td>\n",
       "      <td>Pave</td>\n",
       "      <td>NaN</td>\n",
       "      <td>Reg</td>\n",
       "      <td>Lvl</td>\n",
       "      <td>AllPub</td>\n",
       "      <td>Inside</td>\n",
       "      <td>...</td>\n",
       "      <td>0</td>\n",
       "      <td>NaN</td>\n",
       "      <td>NaN</td>\n",
       "      <td>NaN</td>\n",
       "      <td>0</td>\n",
       "      <td>10</td>\n",
       "      <td>2006</td>\n",
       "      <td>WD</td>\n",
       "      <td>Normal</td>\n",
       "      <td>135500</td>\n",
       "    </tr>\n",
       "    <tr>\n",
       "      <th>2</th>\n",
       "      <td>160</td>\n",
       "      <td>FV</td>\n",
       "      <td>NaN</td>\n",
       "      <td>5105</td>\n",
       "      <td>Pave</td>\n",
       "      <td>NaN</td>\n",
       "      <td>IR2</td>\n",
       "      <td>Lvl</td>\n",
       "      <td>AllPub</td>\n",
       "      <td>FR2</td>\n",
       "      <td>...</td>\n",
       "      <td>0</td>\n",
       "      <td>NaN</td>\n",
       "      <td>NaN</td>\n",
       "      <td>NaN</td>\n",
       "      <td>0</td>\n",
       "      <td>3</td>\n",
       "      <td>2007</td>\n",
       "      <td>WD</td>\n",
       "      <td>Normal</td>\n",
       "      <td>148800</td>\n",
       "    </tr>\n",
       "    <tr>\n",
       "      <th>3</th>\n",
       "      <td>20</td>\n",
       "      <td>RL</td>\n",
       "      <td>50.0</td>\n",
       "      <td>9405</td>\n",
       "      <td>Pave</td>\n",
       "      <td>NaN</td>\n",
       "      <td>Reg</td>\n",
       "      <td>Lvl</td>\n",
       "      <td>AllPub</td>\n",
       "      <td>Inside</td>\n",
       "      <td>...</td>\n",
       "      <td>0</td>\n",
       "      <td>NaN</td>\n",
       "      <td>NaN</td>\n",
       "      <td>NaN</td>\n",
       "      <td>0</td>\n",
       "      <td>6</td>\n",
       "      <td>2009</td>\n",
       "      <td>WD</td>\n",
       "      <td>Normal</td>\n",
       "      <td>118000</td>\n",
       "    </tr>\n",
       "    <tr>\n",
       "      <th>4</th>\n",
       "      <td>50</td>\n",
       "      <td>RL</td>\n",
       "      <td>78.0</td>\n",
       "      <td>10496</td>\n",
       "      <td>Pave</td>\n",
       "      <td>NaN</td>\n",
       "      <td>Reg</td>\n",
       "      <td>Lvl</td>\n",
       "      <td>AllPub</td>\n",
       "      <td>Inside</td>\n",
       "      <td>...</td>\n",
       "      <td>0</td>\n",
       "      <td>NaN</td>\n",
       "      <td>GdWo</td>\n",
       "      <td>NaN</td>\n",
       "      <td>0</td>\n",
       "      <td>1</td>\n",
       "      <td>2007</td>\n",
       "      <td>WD</td>\n",
       "      <td>Normal</td>\n",
       "      <td>143000</td>\n",
       "    </tr>\n",
       "  </tbody>\n",
       "</table>\n",
       "<p>5 rows × 80 columns</p>\n",
       "</div>"
      ],
      "text/plain": [
       "   MSSubClass MSZoning  LotFrontage  LotArea Street Alley LotShape  \\\n",
       "0          60       RL         65.0     8125   Pave   NaN      Reg   \n",
       "1          80       RL         75.0     9750   Pave   NaN      Reg   \n",
       "2         160       FV          NaN     5105   Pave   NaN      IR2   \n",
       "3          20       RL         50.0     9405   Pave   NaN      Reg   \n",
       "4          50       RL         78.0    10496   Pave   NaN      Reg   \n",
       "\n",
       "  LandContour Utilities LotConfig  ... PoolArea PoolQC Fence MiscFeature  \\\n",
       "0         Lvl    AllPub    Inside  ...        0    NaN   NaN         NaN   \n",
       "1         Lvl    AllPub    Inside  ...        0    NaN   NaN         NaN   \n",
       "2         Lvl    AllPub       FR2  ...        0    NaN   NaN         NaN   \n",
       "3         Lvl    AllPub    Inside  ...        0    NaN   NaN         NaN   \n",
       "4         Lvl    AllPub    Inside  ...        0    NaN  GdWo         NaN   \n",
       "\n",
       "  MiscVal MoSold  YrSold  SaleType  SaleCondition  SalePrice  \n",
       "0       0      3    2009        WD         Normal     174000  \n",
       "1       0     10    2006        WD         Normal     135500  \n",
       "2       0      3    2007        WD         Normal     148800  \n",
       "3       0      6    2009        WD         Normal     118000  \n",
       "4       0      1    2007        WD         Normal     143000  \n",
       "\n",
       "[5 rows x 80 columns]"
      ]
     },
     "execution_count": 3,
     "metadata": {},
     "output_type": "execute_result"
    }
   ],
   "source": [
    "concat_df.head()"
   ]
  },
  {
   "cell_type": "markdown",
   "metadata": {},
   "source": [
    "heatmap"
   ]
  },
  {
   "cell_type": "code",
   "execution_count": 4,
   "metadata": {},
   "outputs": [
    {
     "data": {
      "image/png": "[encoded data removed]",
      "text/plain": [
       "<Figure size 1440x1080 with 2 Axes>"
      ]
     },
     "metadata": {
      "needs_background": "light"
     },
     "output_type": "display_data"
    }
   ],
   "source": [
    "plt.figure(figsize=(20*1,15*1))\n",
    "sns.heatmap(concat_df.corr())\n",
    "plt.show()"
   ]
  },
  {
   "cell_type": "markdown",
   "metadata": {},
   "source": [
    "#### Get best correlations"
   ]
  },
  {
   "cell_type": "code",
   "execution_count": 5,
   "metadata": {},
   "outputs": [
    {
     "name": "stderr",
     "output_type": "stream",
     "text": [
      "C:\\Users\\oskar\\AppData\\Local\\Temp/ipykernel_18116/850915546.py:2: DeprecationWarning: `np.bool` is a deprecated alias for the builtin `bool`. To silence this warning, use `bool` by itself. Doing this will not modify any behavior and is safe. If you specifically wanted the numpy scalar type, use `np.bool_` here.\n",
      "Deprecated in NumPy 1.20; for more details and guidance: https://numpy.org/devdocs/release/1.20.0-notes.html#deprecations\n",
      "  sol = (corr_matrix.where(np.triu(np.ones(corr_matrix.shape), k=1).astype(np.bool)).stack().sort_values(ascending=False))\n"
     ]
    },
    {
     "data": {
      "text/plain": [
       "OverallQual    SalePrice    0.790913\n",
       "GrLivArea      SalePrice    0.708478\n",
       "GarageCars     SalePrice    0.640189\n",
       "GarageArea     SalePrice    0.623305\n",
       "TotalBsmtSF    SalePrice    0.613784\n",
       "1stFlrSF       SalePrice    0.606246\n",
       "FullBath       SalePrice    0.560458\n",
       "TotRmsAbvGrd   SalePrice    0.533377\n",
       "YearBuilt      SalePrice    0.522590\n",
       "YearRemodAdd   SalePrice    0.506816\n",
       "GarageYrBlt    SalePrice    0.486046\n",
       "MasVnrArea     SalePrice    0.478019\n",
       "Fireplaces     SalePrice    0.466750\n",
       "BsmtFinSF1     SalePrice    0.387226\n",
       "LotFrontage    SalePrice    0.351529\n",
       "WoodDeckSF     SalePrice    0.324238\n",
       "2ndFlrSF       SalePrice    0.318814\n",
       "OpenPorchSF    SalePrice    0.315125\n",
       "HalfBath       SalePrice    0.283596\n",
       "LotArea        SalePrice    0.263905\n",
       "BsmtFullBath   SalePrice    0.227723\n",
       "BsmtUnfSF      SalePrice    0.213995\n",
       "BedroomAbvGr   SalePrice    0.168161\n",
       "KitchenAbvGr   SalePrice    0.135819\n",
       "EnclosedPorch  SalePrice    0.128403\n",
       "ScreenPorch    SalePrice    0.111639\n",
       "PoolArea       SalePrice    0.092469\n",
       "MSSubClass     SalePrice    0.084350\n",
       "OverallCond    SalePrice    0.077575\n",
       "MoSold         SalePrice    0.046296\n",
       "3SsnPorch      SalePrice    0.044665\n",
       "YrSold         SalePrice    0.029013\n",
       "LowQualFinSF   SalePrice    0.025541\n",
       "MiscVal        SalePrice    0.021143\n",
       "BsmtHalfBath   SalePrice    0.016705\n",
       "BsmtFinSF2     SalePrice    0.011209\n",
       "dtype: float64"
      ]
     },
     "execution_count": 5,
     "metadata": {},
     "output_type": "execute_result"
    }
   ],
   "source": [
    "corr_matrix = concat_df.corr().abs()\n",
    "sol = (corr_matrix.where(np.triu(np.ones(corr_matrix.shape), k=1).astype(np.bool)).stack().sort_values(ascending=False))\n",
    "tuples_with_saleprice = [tup for tup in sol.keys() if 'SalePrice' in tup]\n",
    "\n",
    "sol[tuples_with_saleprice]\n",
    "\n",
    "# Remove features???? Why remove one????? Why find them with highest correlations and remove them???? why??????\n"
   ]
  },
  {
   "cell_type": "markdown",
   "metadata": {},
   "source": [
    "### Handle null values\n",
    "\n",
    "#### 1. threshold for columns (if null values is over 50 % of column)"
   ]
  },
  {
   "cell_type": "code",
   "execution_count": 6,
   "metadata": {},
   "outputs": [
    {
     "name": "stdout",
     "output_type": "stream",
     "text": [
      "removed Index(['Alley', 'PoolQC', 'Fence', 'MiscFeature'], dtype='object')\n"
     ]
    }
   ],
   "source": [
    "series = concat_df.isnull().sum()\n",
    "series_filtered = series[series > 0]\n",
    "\n",
    "total_rows = concat_df.shape[0]\n",
    "threshold = 0.5\n",
    "series_filtered_mask = (series_filtered / total_rows) > threshold\n",
    "\n",
    "columns_to_remove = series_filtered[series_filtered_mask].keys()\n",
    "\n",
    "concat_df.drop(columns_to_remove, inplace=True, axis=1)\n",
    "\n",
    "\n",
    "print(f'removed {columns_to_remove}')"
   ]
  },
  {
   "cell_type": "markdown",
   "metadata": {},
   "source": [
    "#### 2. Threshold for rows (if row has over 10 missing values)"
   ]
  },
  {
   "cell_type": "code",
   "execution_count": 7,
   "metadata": {},
   "outputs": [
    {
     "name": "stdout",
     "output_type": "stream",
     "text": [
      "removed 6 rows\n"
     ]
    }
   ],
   "source": [
    "null_mask =  ~(concat_df.isnull().sum(axis=1) > 10)\n",
    "filtered_df = concat_df[null_mask]\n",
    "\n",
    "print(f'removed {concat_df.shape[0] - filtered_df.shape[0]} rows')"
   ]
  },
  {
   "cell_type": "code",
   "execution_count": 8,
   "metadata": {},
   "outputs": [
    {
     "data": {
      "text/plain": [
       "0      WD\n",
       "1      WD\n",
       "2      WD\n",
       "3      WD\n",
       "4      WD\n",
       "       ..\n",
       "454    WD\n",
       "455    WD\n",
       "456    WD\n",
       "457    WD\n",
       "458    WD\n",
       "Name: SaleType, Length: 1453, dtype: object"
      ]
     },
     "execution_count": 8,
     "metadata": {},
     "output_type": "execute_result"
    }
   ],
   "source": [
    "filtered_df['SaleType']\n"
   ]
  },
  {
   "cell_type": "markdown",
   "metadata": {},
   "source": [
    "#### 3. Change empty strings to most frequent class."
   ]
  },
  {
   "cell_type": "code",
   "execution_count": 9,
   "metadata": {},
   "outputs": [
    {
     "data": {
      "text/plain": [
       "array([dtype('int64'), dtype('O'), dtype('float64')], dtype=object)"
      ]
     },
     "execution_count": 9,
     "metadata": {},
     "output_type": "execute_result"
    }
   ],
   "source": [
    "filtered_df.dtypes.unique()\n"
   ]
  },
  {
   "cell_type": "markdown",
   "metadata": {},
   "source": []
  },
  {
   "cell_type": "code",
   "execution_count": 10,
   "metadata": {},
   "outputs": [
    {
     "name": "stderr",
     "output_type": "stream",
     "text": [
      "C:\\Users\\oskar\\AppData\\Local\\Temp/ipykernel_18116/148844523.py:8: SettingWithCopyWarning: \n",
      "A value is trying to be set on a copy of a slice from a DataFrame.\n",
      "Try using .loc[row_indexer,col_indexer] = value instead\n",
      "\n",
      "See the caveats in the documentation: https://pandas.pydata.org/pandas-docs/stable/user_guide/indexing.html#returning-a-view-versus-a-copy\n",
      "  filtered_df[column] = filtered_df[column].fillna(most_frequent)\n"
     ]
    }
   ],
   "source": [
    "mask = filtered_df.dtypes == 'O'\n",
    "columns_to_string = filtered_df.select_dtypes('O')\n",
    "\n",
    "for column in columns_to_string:\n",
    "\n",
    "    most_frequent = filtered_df[column].value_counts().keys()[0]\n",
    "\n",
    "    filtered_df[column] = filtered_df[column].fillna(most_frequent)\n",
    "    \n",
    "\n"
   ]
  },
  {
   "cell_type": "markdown",
   "metadata": {},
   "source": [
    "### One-hot encoding on strings"
   ]
  },
  {
   "cell_type": "code",
   "execution_count": 11,
   "metadata": {},
   "outputs": [],
   "source": [
    "mask = filtered_df.dtypes == 'O'\n",
    "string_datatype_df = filtered_df.select_dtypes('O')\n",
    "\n",
    "for col_name in string_datatype_df:\n",
    "    one_hot_df = pd.get_dummies(string_datatype_df[col_name])\n",
    "    filtered_df = pd.concat([filtered_df, one_hot_df], axis=1).drop(col_name, axis=1)"
   ]
  },
  {
   "cell_type": "code",
   "execution_count": 12,
   "metadata": {},
   "outputs": [
    {
     "data": {
      "text/plain": [
       "array([dtype('int64'), dtype('float64'), dtype('uint8')], dtype=object)"
      ]
     },
     "execution_count": 12,
     "metadata": {},
     "output_type": "execute_result"
    }
   ],
   "source": [
    "filtered_df.dtypes.unique()"
   ]
  },
  {
   "cell_type": "markdown",
   "metadata": {},
   "source": [
    "we still have nan values..."
   ]
  },
  {
   "cell_type": "code",
   "execution_count": 13,
   "metadata": {},
   "outputs": [],
   "source": [
    "import numpy as np\n",
    "mask = filtered_df.isnull().sum() > 0\n",
    "columns = filtered_df.columns[mask]\n",
    "columns_to_fix = filtered_df[columns]\n",
    "\n",
    "for column in columns_to_fix:\n",
    "    mean = columns_to_fix[column].mean()\n",
    "    filtered_df[column] = columns_to_fix[column].replace(np.NAN, mean)"
   ]
  },
  {
   "cell_type": "markdown",
   "metadata": {},
   "source": [
    "Check later: ['LotFrontage', 'MasVnrArea', 'GarageYrBlt']\n",
    "\n",
    "Test to remove columns when training,\n",
    "for example one column to frequency instead."
   ]
  },
  {
   "cell_type": "code",
   "execution_count": 14,
   "metadata": {},
   "outputs": [
    {
     "data": {
      "text/plain": [
       "0.5877494838265658"
      ]
     },
     "execution_count": 14,
     "metadata": {},
     "output_type": "execute_result"
    }
   ],
   "source": [
    "true_mask = filtered_df['MasVnrArea'] == 0\n",
    "\n",
    "total = len(true_mask) \n",
    "total_zero = len([c for c in true_mask if c])\n",
    "\n",
    "total_zero / total"
   ]
  },
  {
   "cell_type": "code",
   "execution_count": 23,
   "metadata": {},
   "outputs": [],
   "source": [
    "filtered_df.head()\n",
    "\n",
    "\n",
    "filtered_df.to_csv('./data/regression_cleaned.csv', index=False)"
   ]
  },
  {
   "cell_type": "markdown",
   "metadata": {},
   "source": [
    "#### Model"
   ]
  },
  {
   "cell_type": "code",
   "execution_count": 16,
   "metadata": {},
   "outputs": [],
   "source": [
    "y = filtered_df['SalePrice']\n",
    "x = filtered_df.drop('SalePrice', axis=1)"
   ]
  },
  {
   "cell_type": "code",
   "execution_count": 17,
   "metadata": {},
   "outputs": [],
   "source": [
    "x_train, x_test, y_train, y_test = train_test_split(x, y, test_size=0.2, random_state=42)"
   ]
  },
  {
   "cell_type": "code",
   "execution_count": 24,
   "metadata": {},
   "outputs": [
    {
     "data": {
      "text/html": [
       "<div>\n",
       "<style scoped>\n",
       "    .dataframe tbody tr th:only-of-type {\n",
       "        vertical-align: middle;\n",
       "    }\n",
       "\n",
       "    .dataframe tbody tr th {\n",
       "        vertical-align: top;\n",
       "    }\n",
       "\n",
       "    .dataframe thead th {\n",
       "        text-align: right;\n",
       "    }\n",
       "</style>\n",
       "<table border=\"1\" class=\"dataframe\">\n",
       "  <thead>\n",
       "    <tr style=\"text-align: right;\">\n",
       "      <th></th>\n",
       "      <th>MSSubClass</th>\n",
       "      <th>LotFrontage</th>\n",
       "      <th>LotArea</th>\n",
       "      <th>OverallQual</th>\n",
       "      <th>OverallCond</th>\n",
       "      <th>YearBuilt</th>\n",
       "      <th>YearRemodAdd</th>\n",
       "      <th>MasVnrArea</th>\n",
       "      <th>BsmtFinSF1</th>\n",
       "      <th>BsmtFinSF2</th>\n",
       "      <th>...</th>\n",
       "      <th>ConLw</th>\n",
       "      <th>New</th>\n",
       "      <th>Oth</th>\n",
       "      <th>WD</th>\n",
       "      <th>Abnorml</th>\n",
       "      <th>AdjLand</th>\n",
       "      <th>Alloca</th>\n",
       "      <th>Family</th>\n",
       "      <th>Normal</th>\n",
       "      <th>Partial</th>\n",
       "    </tr>\n",
       "  </thead>\n",
       "  <tbody>\n",
       "    <tr>\n",
       "      <th>64</th>\n",
       "      <td>50</td>\n",
       "      <td>79.000000</td>\n",
       "      <td>9492</td>\n",
       "      <td>5</td>\n",
       "      <td>5</td>\n",
       "      <td>1941</td>\n",
       "      <td>1950</td>\n",
       "      <td>0.0</td>\n",
       "      <td>368</td>\n",
       "      <td>41</td>\n",
       "      <td>...</td>\n",
       "      <td>0</td>\n",
       "      <td>0</td>\n",
       "      <td>0</td>\n",
       "      <td>1</td>\n",
       "      <td>0</td>\n",
       "      <td>0</td>\n",
       "      <td>0</td>\n",
       "      <td>0</td>\n",
       "      <td>1</td>\n",
       "      <td>0</td>\n",
       "    </tr>\n",
       "    <tr>\n",
       "      <th>145</th>\n",
       "      <td>60</td>\n",
       "      <td>85.000000</td>\n",
       "      <td>10574</td>\n",
       "      <td>8</td>\n",
       "      <td>5</td>\n",
       "      <td>2005</td>\n",
       "      <td>2006</td>\n",
       "      <td>0.0</td>\n",
       "      <td>0</td>\n",
       "      <td>0</td>\n",
       "      <td>...</td>\n",
       "      <td>0</td>\n",
       "      <td>0</td>\n",
       "      <td>0</td>\n",
       "      <td>1</td>\n",
       "      <td>0</td>\n",
       "      <td>0</td>\n",
       "      <td>0</td>\n",
       "      <td>0</td>\n",
       "      <td>1</td>\n",
       "      <td>0</td>\n",
       "    </tr>\n",
       "    <tr>\n",
       "      <th>794</th>\n",
       "      <td>60</td>\n",
       "      <td>70.000000</td>\n",
       "      <td>8400</td>\n",
       "      <td>8</td>\n",
       "      <td>6</td>\n",
       "      <td>2001</td>\n",
       "      <td>2001</td>\n",
       "      <td>0.0</td>\n",
       "      <td>643</td>\n",
       "      <td>0</td>\n",
       "      <td>...</td>\n",
       "      <td>0</td>\n",
       "      <td>0</td>\n",
       "      <td>0</td>\n",
       "      <td>1</td>\n",
       "      <td>0</td>\n",
       "      <td>0</td>\n",
       "      <td>0</td>\n",
       "      <td>0</td>\n",
       "      <td>1</td>\n",
       "      <td>0</td>\n",
       "    </tr>\n",
       "    <tr>\n",
       "      <th>725</th>\n",
       "      <td>20</td>\n",
       "      <td>80.000000</td>\n",
       "      <td>9920</td>\n",
       "      <td>5</td>\n",
       "      <td>5</td>\n",
       "      <td>1954</td>\n",
       "      <td>1954</td>\n",
       "      <td>110.0</td>\n",
       "      <td>354</td>\n",
       "      <td>290</td>\n",
       "      <td>...</td>\n",
       "      <td>0</td>\n",
       "      <td>0</td>\n",
       "      <td>0</td>\n",
       "      <td>1</td>\n",
       "      <td>0</td>\n",
       "      <td>0</td>\n",
       "      <td>0</td>\n",
       "      <td>0</td>\n",
       "      <td>1</td>\n",
       "      <td>0</td>\n",
       "    </tr>\n",
       "    <tr>\n",
       "      <th>374</th>\n",
       "      <td>120</td>\n",
       "      <td>70.077889</td>\n",
       "      <td>4500</td>\n",
       "      <td>6</td>\n",
       "      <td>5</td>\n",
       "      <td>1999</td>\n",
       "      <td>1999</td>\n",
       "      <td>425.0</td>\n",
       "      <td>883</td>\n",
       "      <td>0</td>\n",
       "      <td>...</td>\n",
       "      <td>0</td>\n",
       "      <td>0</td>\n",
       "      <td>0</td>\n",
       "      <td>1</td>\n",
       "      <td>0</td>\n",
       "      <td>0</td>\n",
       "      <td>0</td>\n",
       "      <td>0</td>\n",
       "      <td>1</td>\n",
       "      <td>0</td>\n",
       "    </tr>\n",
       "  </tbody>\n",
       "</table>\n",
       "<p>5 rows × 274 columns</p>\n",
       "</div>"
      ],
      "text/plain": [
       "     MSSubClass  LotFrontage  LotArea  OverallQual  OverallCond  YearBuilt  \\\n",
       "64           50    79.000000     9492            5            5       1941   \n",
       "145          60    85.000000    10574            8            5       2005   \n",
       "794          60    70.000000     8400            8            6       2001   \n",
       "725          20    80.000000     9920            5            5       1954   \n",
       "374         120    70.077889     4500            6            5       1999   \n",
       "\n",
       "     YearRemodAdd  MasVnrArea  BsmtFinSF1  BsmtFinSF2  ...  ConLw  New  Oth  \\\n",
       "64           1950         0.0         368          41  ...      0    0    0   \n",
       "145          2006         0.0           0           0  ...      0    0    0   \n",
       "794          2001         0.0         643           0  ...      0    0    0   \n",
       "725          1954       110.0         354         290  ...      0    0    0   \n",
       "374          1999       425.0         883           0  ...      0    0    0   \n",
       "\n",
       "     WD  Abnorml  AdjLand  Alloca  Family  Normal  Partial  \n",
       "64    1        0        0       0       0       1        0  \n",
       "145   1        0        0       0       0       1        0  \n",
       "794   1        0        0       0       0       1        0  \n",
       "725   1        0        0       0       0       1        0  \n",
       "374   1        0        0       0       0       1        0  \n",
       "\n",
       "[5 rows x 274 columns]"
      ]
     },
     "execution_count": 24,
     "metadata": {},
     "output_type": "execute_result"
    }
   ],
   "source": [
    "x_train.head()"
   ]
  },
  {
   "cell_type": "code",
   "execution_count": 18,
   "metadata": {},
   "outputs": [
    {
     "name": "stderr",
     "output_type": "stream",
     "text": [
      "c:\\Github\\applied-ai\\venv\\lib\\site-packages\\sklearn\\ensemble\\_forest.py:396: FutureWarning: Criterion 'mse' was deprecated in v1.0 and will be removed in version 1.2. Use `criterion='squared_error'` which is equivalent.\n",
      "  warn(\n"
     ]
    },
    {
     "data": {
      "text/plain": [
       "RandomForestRegressor(criterion='mse', max_depth=10, n_estimators=20)"
      ]
     },
     "execution_count": 18,
     "metadata": {},
     "output_type": "execute_result"
    }
   ],
   "source": [
    "forest = RandomForestRegressor(n_estimators=20, max_depth=10, criterion=\"mse\")\n",
    "forest.fit(x_train, y_train)"
   ]
  },
  {
   "cell_type": "code",
   "execution_count": 19,
   "metadata": {},
   "outputs": [
    {
     "name": "stdout",
     "output_type": "stream",
     "text": [
      "(1162,)\n",
      "(291,)\n"
     ]
    }
   ],
   "source": [
    "prediction = forest.predict(x_test)\n",
    "\n",
    "print(y_train.shape)\n",
    "print(prediction.shape)\n",
    "score = mean_squared_error(y_test, prediction)"
   ]
  },
  {
   "cell_type": "code",
   "execution_count": 20,
   "metadata": {},
   "outputs": [
    {
     "name": "stdout",
     "output_type": "stream",
     "text": [
      "(291,)\n"
     ]
    },
    {
     "data": {
      "image/png": "[encoded data removed]",
      "text/plain": [
       "<Figure size 720x720 with 1 Axes>"
      ]
     },
     "metadata": {
      "needs_background": "light"
     },
     "output_type": "display_data"
    }
   ],
   "source": [
    "#print(min(prediction))\n",
    "#print(max(prediction))\n",
    "#print(np.mean(prediction))\n",
    "\n",
    "\n",
    "#print(prediction[:10])\n",
    "#print(abs(y_test[:10] - prediction[:10]))\n",
    "\n",
    "\n",
    "#print(prediction[:10])\n",
    "#print(y_test[:10])\n",
    "\n",
    "figure = plt.figure(figsize=(10, 10))\n",
    "\n",
    "length = len(prediction[:10])\n",
    "print(prediction.shape)\n",
    "plt.plot(range(length), prediction[:10], marker='o')\n",
    "plt.plot(range(length), y_test[:10], marker='o')\n",
    "plt.show()"
   ]
  },
  {
   "cell_type": "code",
   "execution_count": 21,
   "metadata": {},
   "outputs": [
    {
     "name": "stdout",
     "output_type": "stream",
     "text": [
      "The worst result was:  175096.50972222222\n",
      "The best result was:   107.73368384700734\n",
      "The mean deviation is: 19105.14054789399\n"
     ]
    }
   ],
   "source": [
    "deviations = abs(y_test - prediction)\n",
    "print(f'The worst result was:  {np.max(deviations)}')\n",
    "print(f'The best result was:   {np.min(deviations)}')\n",
    "print(f'The mean deviation is: {np.mean(deviations)}')"
   ]
  }
 ],
 "metadata": {
  "interpreter": {
   "hash": "6a5f0f0fe85b899b23e092f5989e850d9414f74e6288713926b25d15be270631"
  },
  "kernelspec": {
   "display_name": "Python 3.9.7 64-bit ('venv': venv)",
   "language": "python",
   "name": "python3"
  },
  "language_info": {
   "codemirror_mode": {
    "name": "ipython",
    "version": 3
   },
   "file_extension": ".py",
   "mimetype": "text/x-python",
   "name": "python",
   "nbconvert_exporter": "python",
   "pygments_lexer": "ipython3",
   "version": "3.9.7"
  },
  "orig_nbformat": 4
 },
 "nbformat": 4,
 "nbformat_minor": 2
}
