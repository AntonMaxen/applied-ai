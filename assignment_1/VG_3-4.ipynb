{
 "cells": [
  {
   "cell_type": "markdown",
   "metadata": {},
   "source": [
    "### Baseline 2 Greedy"
   ]
  },
  {
   "cell_type": "code",
   "execution_count": 1,
   "metadata": {},
   "outputs": [],
   "source": [
    "import pandas as pd\n",
    "from tqdm import tqdm\n",
    "import matplotlib.pyplot as plt"
   ]
  },
  {
   "cell_type": "markdown",
   "metadata": {},
   "source": [
    "##### Load data"
   ]
  },
  {
   "cell_type": "code",
   "execution_count": 2,
   "metadata": {},
   "outputs": [],
   "source": [
    "distances_df = pd.read_csv('data/distanceslonglat.csv')"
   ]
  },
  {
   "cell_type": "markdown",
   "metadata": {},
   "source": [
    "##### Greedy algorithm on all possible starting positions"
   ]
  },
  {
   "cell_type": "code",
   "execution_count": 3,
   "metadata": {},
   "outputs": [],
   "source": [
    "def greedy_simulation(start, distances_df):\n",
    "    total_distance = 0\n",
    "    visited = set()\n",
    "    order = []\n",
    "\n",
    "    while len(visited) < len(distances_df):\n",
    "        start_list = distances_df.loc[distances_df['Start'] == start]\n",
    "        start_list = start_list.loc[start_list['Target'].isin(visited) == False]\n",
    "        route_list = start_list.nsmallest(2, 'Distance')\n",
    "\n",
    "        if len(route_list) > 1:\n",
    "            route = route_list.iloc[1]\n",
    "        elif len(route_list) == 1:\n",
    "            route = route_list.iloc[0]\n",
    "\n",
    "        if route['Target'] in visited:\n",
    "            break\n",
    "        else:\n",
    "            total_distance += route['Distance']\n",
    "            start = route['Target']\n",
    "            visited.add(route['Start'])\n",
    "            order.append(route['Start'])\n",
    "\n",
    "\n",
    "    return total_distance, order"
   ]
  },
  {
   "cell_type": "code",
   "execution_count": 4,
   "metadata": {},
   "outputs": [
    {
     "name": "stderr",
     "output_type": "stream",
     "text": [
      "100%|██████████| 120/120 [00:22<00:00,  5.36it/s]\n"
     ]
    }
   ],
   "source": [
    "cities = distances_df['Start'].unique()\n",
    "\n",
    "simulations = []\n",
    "for city in tqdm(cities):\n",
    "    total_distance, order = greedy_simulation(city, distances_df)\n",
    "    simulations.append({\n",
    "        'distance': total_distance,\n",
    "        'order': order\n",
    "    })"
   ]
  },
  {
   "cell_type": "markdown",
   "metadata": {},
   "source": [
    "##### Plot Result"
   ]
  },
  {
   "cell_type": "code",
   "execution_count": 5,
   "metadata": {},
   "outputs": [
    {
     "data": {
      "image/png": "[encoded data removed]",
      "text/plain": [
       "<Figure size 1152x576 with 2 Axes>"
      ]
     },
     "metadata": {
      "needs_background": "light"
     },
     "output_type": "display_data"
    }
   ],
   "source": [
    "plt.figure(figsize=(16, 8))\n",
    "plt.subplot(1, 2, 1)\n",
    "plt.xlabel('Distance')\n",
    "plt.ylabel('Amount')\n",
    "plt.title(\"Amount vs Distance\")\n",
    "\n",
    "plt.hist([d['distance'] for d in simulations])\n",
    "\n",
    "plt.subplot(1, 2, 2)\n",
    "\n",
    "plt.xlabel('Index')\n",
    "plt.ylabel('Distance')\n",
    "plt.title(\"Index vs Distance\")\n",
    "plt.hist2d(range(len(simulations)), [d['distance'] for d in simulations], bins=(120, 120), cmap=plt.cm.inferno)\n",
    "plt.show()"
   ]
  }
 ],
 "metadata": {
  "interpreter": {
   "hash": "8034bb673411d43a8ead9cbef07622a87e42e0a8dafdb262a436f0c34095fc72"
  },
  "kernelspec": {
   "display_name": "Python 3.9.7 64-bit ('base': conda)",
   "language": "python",
   "name": "python3"
  },
  "language_info": {
   "codemirror_mode": {
    "name": "ipython",
    "version": 3
   },
   "file_extension": ".py",
   "mimetype": "text/x-python",
   "name": "python",
   "nbconvert_exporter": "python",
   "pygments_lexer": "ipython3",
   "version": "3.9.7"
  },
  "orig_nbformat": 4
 },
 "nbformat": 4,
 "nbformat_minor": 2
}
