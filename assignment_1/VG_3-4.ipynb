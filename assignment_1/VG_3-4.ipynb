{
 "cells": [
  {
   "cell_type": "code",
   "execution_count": 1,
   "metadata": {},
   "outputs": [],
   "source": [
    "import pandas as pd\n",
    "import numpy as np\n",
    "import random\n",
    "distances_df = pd.read_csv('data/distanceslonglat.csv')"
   ]
  },
  {
   "cell_type": "code",
   "execution_count": 2,
   "metadata": {},
   "outputs": [],
   "source": [
    "cities = distances_df['Start'].unique()\n",
    "np.random.shuffle(cities)"
   ]
  },
  {
   "cell_type": "code",
   "execution_count": 3,
   "metadata": {},
   "outputs": [],
   "source": [
    "def all_cities_visited_simulation(start, distances_df):\n",
    "    total_distance = 0\n",
    "    visited = set()\n",
    "    order = []\n",
    "\n",
    "    while len(visited) < len(distances_df):\n",
    "        start_list = distances_df.loc[distances_df['Start'] == start]\n",
    "        start_list = start_list.loc[start_list['Target'].isin(visited) == False]\n",
    "        route_list = start_list.nsmallest(2, 'Distance')\n",
    "\n",
    "        if len(route_list) > 1:\n",
    "            route = route_list.iloc[1]\n",
    "        elif len(route_list) == 1:\n",
    "            route = route_list.iloc[0]\n",
    "\n",
    "        if route['Target'] in visited:\n",
    "            break\n",
    "        else:\n",
    "            total_distance += route['Distance']\n",
    "            start = route['Target']\n",
    "            visited.add(route['Start'])\n",
    "            order.append(route['Start'])\n",
    "\n",
    "\n",
    "    \n",
    "    return total_distance, order"
   ]
  },
  {
   "cell_type": "code",
   "execution_count": 4,
   "metadata": {},
   "outputs": [
    {
     "name": "stderr",
     "output_type": "stream",
     "text": [
      "100%|██████████| 120/120 [00:22<00:00,  5.44it/s]\n"
     ]
    }
   ],
   "source": [
    "from tqdm import tqdm\n",
    "simulations = []\n",
    "for city in tqdm(cities):\n",
    "    total_distance, order = all_cities_visited_simulation(city, distances_df)\n",
    "    simulations.append({\n",
    "        'distance': total_distance,\n",
    "        'order': order\n",
    "    })"
   ]
  },
  {
   "cell_type": "code",
   "execution_count": 11,
   "metadata": {},
   "outputs": [
    {
     "data": {
      "image/png": "[encoded data removed]",
      "text/plain": [
       "<Figure size 1152x1152 with 1 Axes>"
      ]
     },
     "metadata": {
      "needs_background": "light"
     },
     "output_type": "display_data"
    }
   ],
   "source": [
    "import matplotlib.pyplot as plt\n",
    "plt.figure(figsize=(16, 16))\n",
    "simulations = sorted(simulations, key=lambda x: x['distance'], reverse=False)\n",
    "plt.hist2d(range(len(simulations)), [d['distance'] for d in simulations], bins=(300, 300))\n",
    "plt.show()"
   ]
  },
  {
   "cell_type": "code",
   "execution_count": 7,
   "metadata": {},
   "outputs": [],
   "source": [
    "def tot_dist(cities, cities_dict):\n",
    "    total_distance = 0\n",
    "    start = None\n",
    "    target = None\n",
    "    \n",
    "    for city in cities:\n",
    "        if not (start):\n",
    "            start = city\n",
    "            continue\n",
    "     \n",
    "        target = city\n",
    "        total_distance += cities_dict[start + target]\n",
    "        start = target\n",
    "        target = None\n",
    "    return total_distance\n",
    "\n"
   ]
  },
  {
   "cell_type": "code",
   "execution_count": 8,
   "metadata": {},
   "outputs": [
    {
     "name": "stdout",
     "output_type": "stream",
     "text": [
      "131247.79996326647\n"
     ]
    }
   ],
   "source": [
    "cities = ['Tripoli, Libya', 'Naples, Italy', 'Rome, Italy', 'Venice, Italy', 'Milan, Italy', 'Zrich, Switzerland', 'Munich, Germany', 'Prague, Czech Republic', 'Vienna, Austria', 'Budapest, Hungary', 'Belgrade, Serbia', 'Sofia, Bulgaria', 'Bucharest, Romania', 'Odessa, Ukraine', 'Ankara, Turkey', 'Athens, Greece', 'Cairo, Egypt', 'Mecca, Saudi Arabia', 'Djibouti, Djibouti', 'Nairobi, Kenya', 'Tananarive, Madagascar', 'Durban, South Africa', 'Johannesburg, South Africa', 'Cape Town, South Africa', 'Kinshasa, Congo', 'Dakar, Senegal', 'Lisbon, Portugal', 'Madrid, Spain', 'Barcelona, Spain', 'Marseilles, France', 'Lyons, France', 'Paris, France', 'Brussels, Belgium', 'Amsterdam, Netherlands', 'Bremen, Germany', 'Hamburg, Germany', 'Berlin, Germany', 'Copenhagen, Denmark', 'Oslo, Norway', 'Stockholm, Sweden', 'Helsinki, Finland', 'St. Petersburg, Russia', 'Moscow, Russia', 'Warsaw, Poland', 'Frankfurt, Germany', 'London, England', 'Birmingham, England', 'Bristol, England', 'Plymouth, England', 'Liverpool, England', 'Manchester, England', 'Leeds, England', 'Newcastle-on-Tyne, England', 'Edinburgh, Scotland', 'Glasgow, Scotland', 'Belfast, Northern Ireland', 'Dublin, Ireland', 'Aberdeen, Scotland', 'Reykjavk, Iceland', 'Hammerfest, Norway', 'Bordeaux, France', 'Algiers, Algeria', 'Teheran, Iran', 'New Delhi, India', 'Bombay, India', 'Calcutta, India', 'Rangoon, Myanmar', 'Bangkok, Thailand', 'Kuala Lumpur, Malaysia', 'Singapore, Singapore', 'Jakarta, Indonesia', 'Darwin, Australia', 'Port Moresby, Papua New Guinea', 'Brisbane, Australia', 'Sydney, Australia', 'Melbourne, Australia', 'Hobart, Tasmania', 'Adelaide, Australia', 'Perth, Australia', 'Manila, Philippines', 'Hong Kong, China', 'Canton, China', 'Chongqing, China', 'Nanjing (Nanking), China', 'Shanghai, China', 'Nagasaki, Japan', 'Osaka, Japan', 'Nagoya, Japan', 'Tokyo, Japan', 'Vladivostok, Russia', 'Beijing, China', 'Irkutsk, Russia', 'Chihuahua, Mexico', 'Mazatln, Mexico', 'Mexico City, Mexico', 'Veracruz, Mexico', 'Guatemala City, Guatemala', 'Havana, Cuba', 'Kingston, Jamaica', 'Panama City, Panama', 'Bogot, Colombia', 'Guayaquil, Ecuador', 'Lima, Peru', 'La Paz, Bolivia', 'Iquique, Chile', 'Crdoba, Argentina', 'Buenos Aires, Argentina', 'Montevideo, Uruguay', 'Asuncin, Paraguay', 'So Paulo, Brazil', 'Rio de Janeiro, Brazil', 'Salvador, Brazil', 'Belm, Brazil', 'Cayenne, French Guiana', 'Paramaribo, Suriname', 'Georgetown, Guyana', 'Caracas, Venezuela', 'Santiago, Chile', 'Wellington, New Zealand', 'Auckland, New Zealand']\n",
    "city_distances_dict = dict(zip(distances_df['Start'] + distances_df['Target'], distances_df['Distance']))\n",
    "dist = tot_dist(cities, city_distances_dict)\n",
    "print(dist)"
   ]
  },
  {
   "cell_type": "code",
   "execution_count": 9,
   "metadata": {},
   "outputs": [
    {
     "name": "stdout",
     "output_type": "stream",
     "text": [
      "['Wellington, New Zealand', 'Auckland, New Zealand', 'Sydney, Australia', 'Melbourne, Australia', 'Hobart, Tasmania', 'Adelaide, Australia', 'Brisbane, Australia', 'Port Moresby, Papua New Guinea', 'Darwin, Australia', 'Perth, Australia', 'Jakarta, Indonesia', 'Singapore, Singapore', 'Kuala Lumpur, Malaysia', 'Bangkok, Thailand', 'Rangoon, Myanmar', 'Calcutta, India', 'New Delhi, India', 'Bombay, India', 'Teheran, Iran', 'Ankara, Turkey', 'Odessa, Ukraine', 'Bucharest, Romania', 'Sofia, Bulgaria', 'Belgrade, Serbia', 'Budapest, Hungary', 'Vienna, Austria', 'Prague, Czech Republic', 'Berlin, Germany', 'Hamburg, Germany', 'Bremen, Germany', 'Amsterdam, Netherlands', 'Brussels, Belgium', 'Paris, France', 'London, England', 'Birmingham, England', 'Bristol, England', 'Plymouth, England', 'Liverpool, England', 'Manchester, England', 'Leeds, England', 'Newcastle-on-Tyne, England', 'Edinburgh, Scotland', 'Glasgow, Scotland', 'Belfast, Northern Ireland', 'Dublin, Ireland', 'Aberdeen, Scotland', 'Oslo, Norway', 'Stockholm, Sweden', 'Helsinki, Finland', 'St. Petersburg, Russia', 'Moscow, Russia', 'Warsaw, Poland', 'Copenhagen, Denmark', 'Frankfurt, Germany', 'Munich, Germany', 'Zrich, Switzerland', 'Milan, Italy', 'Venice, Italy', 'Rome, Italy', 'Naples, Italy', 'Marseilles, France', 'Lyons, France', 'Bordeaux, France', 'Barcelona, Spain', 'Madrid, Spain', 'Lisbon, Portugal', 'Algiers, Algeria', 'Tripoli, Libya', 'Athens, Greece', 'Cairo, Egypt', 'Mecca, Saudi Arabia', 'Djibouti, Djibouti', 'Nairobi, Kenya', 'Tananarive, Madagascar', 'Durban, South Africa', 'Johannesburg, South Africa', 'Cape Town, South Africa', 'Kinshasa, Congo', 'Dakar, Senegal', 'Salvador, Brazil', 'Rio de Janeiro, Brazil', 'So Paulo, Brazil', 'Asuncin, Paraguay', 'Crdoba, Argentina', 'Buenos Aires, Argentina', 'Montevideo, Uruguay', 'Santiago, Chile', 'Iquique, Chile', 'La Paz, Bolivia', 'Lima, Peru', 'Guayaquil, Ecuador', 'Bogot, Colombia', 'Panama City, Panama', 'Kingston, Jamaica', 'Havana, Cuba', 'Guatemala City, Guatemala', 'Veracruz, Mexico', 'Mexico City, Mexico', 'Mazatln, Mexico', 'Chihuahua, Mexico', 'Caracas, Venezuela', 'Georgetown, Guyana', 'Paramaribo, Suriname', 'Cayenne, French Guiana', 'Belm, Brazil', 'Reykjavk, Iceland', 'Hammerfest, Norway', 'Irkutsk, Russia', 'Beijing, China', 'Nanjing (Nanking), China', 'Shanghai, China', 'Nagasaki, Japan', 'Osaka, Japan', 'Nagoya, Japan', 'Tokyo, Japan', 'Vladivostok, Russia', 'Chongqing, China', 'Canton, China', 'Hong Kong, China', 'Manila, Philippines']\n",
      "117958.02466736174\n"
     ]
    }
   ],
   "source": [
    "print(simulations[0]['order'])\n",
    "print(simulations[0]['distance'])"
   ]
  }
 ],
 "metadata": {
  "interpreter": {
   "hash": "8034bb673411d43a8ead9cbef07622a87e42e0a8dafdb262a436f0c34095fc72"
  },
  "kernelspec": {
   "display_name": "Python 3.9.7 64-bit ('base': conda)",
   "language": "python",
   "name": "python3"
  },
  "language_info": {
   "codemirror_mode": {
    "name": "ipython",
    "version": 3
   },
   "file_extension": ".py",
   "mimetype": "text/x-python",
   "name": "python",
   "nbconvert_exporter": "python",
   "pygments_lexer": "ipython3",
   "version": "3.9.7"
  },
  "orig_nbformat": 4
 },
 "nbformat": 4,
 "nbformat_minor": 2
}
