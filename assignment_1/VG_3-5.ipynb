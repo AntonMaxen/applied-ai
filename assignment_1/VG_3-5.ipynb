{
 "cells": [
  {
   "cell_type": "code",
   "execution_count": 1,
   "metadata": {},
   "outputs": [],
   "source": [
    "import pandas as pd\n",
    "import numpy as np\n",
    "from sko.GA import GA_TSP\n",
    "import matplotlib.pyplot as plt\n",
    "from sko.operators import ranking, selection, crossover, mutation\n",
    "from itertools import product\n",
    "import time\n",
    "import multiprocessing as mp\n",
    "from tqdm import tqdm"
   ]
  },
  {
   "cell_type": "code",
   "execution_count": 2,
   "metadata": {},
   "outputs": [
    {
     "data": {
      "text/html": [
       "<div>\n",
       "<style scoped>\n",
       "    .dataframe tbody tr th:only-of-type {\n",
       "        vertical-align: middle;\n",
       "    }\n",
       "\n",
       "    .dataframe tbody tr th {\n",
       "        vertical-align: top;\n",
       "    }\n",
       "\n",
       "    .dataframe thead th {\n",
       "        text-align: right;\n",
       "    }\n",
       "</style>\n",
       "<table border=\"1\" class=\"dataframe\">\n",
       "  <thead>\n",
       "    <tr style=\"text-align: right;\">\n",
       "      <th></th>\n",
       "      <th>Unnamed: 0</th>\n",
       "      <th>Start</th>\n",
       "      <th>Target</th>\n",
       "      <th>StartLatitude</th>\n",
       "      <th>TargetLatitude</th>\n",
       "      <th>StartLongitude</th>\n",
       "      <th>TargetLongitude</th>\n",
       "      <th>Distance</th>\n",
       "    </tr>\n",
       "  </thead>\n",
       "  <tbody>\n",
       "    <tr>\n",
       "      <th>0</th>\n",
       "      <td>0</td>\n",
       "      <td>Aberdeen, Scotland</td>\n",
       "      <td>Aberdeen, Scotland</td>\n",
       "      <td>57.15</td>\n",
       "      <td>57.150000</td>\n",
       "      <td>-2.15</td>\n",
       "      <td>-2.150000</td>\n",
       "      <td>0.000000</td>\n",
       "    </tr>\n",
       "    <tr>\n",
       "      <th>1</th>\n",
       "      <td>1</td>\n",
       "      <td>Aberdeen, Scotland</td>\n",
       "      <td>Adelaide, Australia</td>\n",
       "      <td>57.15</td>\n",
       "      <td>-34.916667</td>\n",
       "      <td>-2.15</td>\n",
       "      <td>138.600000</td>\n",
       "      <td>16183.676404</td>\n",
       "    </tr>\n",
       "    <tr>\n",
       "      <th>2</th>\n",
       "      <td>2</td>\n",
       "      <td>Aberdeen, Scotland</td>\n",
       "      <td>Algiers, Algeria</td>\n",
       "      <td>57.15</td>\n",
       "      <td>36.833333</td>\n",
       "      <td>-2.15</td>\n",
       "      <td>3.000000</td>\n",
       "      <td>2290.736724</td>\n",
       "    </tr>\n",
       "    <tr>\n",
       "      <th>3</th>\n",
       "      <td>3</td>\n",
       "      <td>Aberdeen, Scotland</td>\n",
       "      <td>Amsterdam, Netherlands</td>\n",
       "      <td>57.15</td>\n",
       "      <td>52.366667</td>\n",
       "      <td>-2.15</td>\n",
       "      <td>4.883333</td>\n",
       "      <td>698.243287</td>\n",
       "    </tr>\n",
       "    <tr>\n",
       "      <th>4</th>\n",
       "      <td>4</td>\n",
       "      <td>Aberdeen, Scotland</td>\n",
       "      <td>Ankara, Turkey</td>\n",
       "      <td>57.15</td>\n",
       "      <td>39.916667</td>\n",
       "      <td>-2.15</td>\n",
       "      <td>32.916667</td>\n",
       "      <td>3164.736857</td>\n",
       "    </tr>\n",
       "  </tbody>\n",
       "</table>\n",
       "</div>"
      ],
      "text/plain": [
       "   Unnamed: 0               Start                  Target  StartLatitude  \\\n",
       "0           0  Aberdeen, Scotland      Aberdeen, Scotland          57.15   \n",
       "1           1  Aberdeen, Scotland     Adelaide, Australia          57.15   \n",
       "2           2  Aberdeen, Scotland        Algiers, Algeria          57.15   \n",
       "3           3  Aberdeen, Scotland  Amsterdam, Netherlands          57.15   \n",
       "4           4  Aberdeen, Scotland          Ankara, Turkey          57.15   \n",
       "\n",
       "   TargetLatitude  StartLongitude  TargetLongitude      Distance  \n",
       "0       57.150000           -2.15        -2.150000      0.000000  \n",
       "1      -34.916667           -2.15       138.600000  16183.676404  \n",
       "2       36.833333           -2.15         3.000000   2290.736724  \n",
       "3       52.366667           -2.15         4.883333    698.243287  \n",
       "4       39.916667           -2.15        32.916667   3164.736857  "
      ]
     },
     "execution_count": 2,
     "metadata": {},
     "output_type": "execute_result"
    }
   ],
   "source": [
    "df = pd.read_csv('data/distanceslonglat.csv')\n",
    "df.head()"
   ]
  },
  {
   "cell_type": "code",
   "execution_count": 3,
   "metadata": {},
   "outputs": [
    {
     "data": {
      "text/html": [
       "<div>\n",
       "<style scoped>\n",
       "    .dataframe tbody tr th:only-of-type {\n",
       "        vertical-align: middle;\n",
       "    }\n",
       "\n",
       "    .dataframe tbody tr th {\n",
       "        vertical-align: top;\n",
       "    }\n",
       "\n",
       "    .dataframe thead th {\n",
       "        text-align: right;\n",
       "    }\n",
       "</style>\n",
       "<table border=\"1\" class=\"dataframe\">\n",
       "  <thead>\n",
       "    <tr style=\"text-align: right;\">\n",
       "      <th></th>\n",
       "      <th>Unnamed: 0</th>\n",
       "      <th>Start</th>\n",
       "      <th>Target</th>\n",
       "      <th>StartLatitude</th>\n",
       "      <th>TargetLatitude</th>\n",
       "      <th>StartLongitude</th>\n",
       "      <th>TargetLongitude</th>\n",
       "      <th>Distance</th>\n",
       "    </tr>\n",
       "  </thead>\n",
       "  <tbody>\n",
       "    <tr>\n",
       "      <th>0</th>\n",
       "      <td>0</td>\n",
       "      <td>0</td>\n",
       "      <td>0</td>\n",
       "      <td>57.15</td>\n",
       "      <td>57.150000</td>\n",
       "      <td>-2.15</td>\n",
       "      <td>-2.150000</td>\n",
       "      <td>0.000000</td>\n",
       "    </tr>\n",
       "    <tr>\n",
       "      <th>1</th>\n",
       "      <td>1</td>\n",
       "      <td>0</td>\n",
       "      <td>1</td>\n",
       "      <td>57.15</td>\n",
       "      <td>-34.916667</td>\n",
       "      <td>-2.15</td>\n",
       "      <td>138.600000</td>\n",
       "      <td>16183.676404</td>\n",
       "    </tr>\n",
       "    <tr>\n",
       "      <th>2</th>\n",
       "      <td>2</td>\n",
       "      <td>0</td>\n",
       "      <td>2</td>\n",
       "      <td>57.15</td>\n",
       "      <td>36.833333</td>\n",
       "      <td>-2.15</td>\n",
       "      <td>3.000000</td>\n",
       "      <td>2290.736724</td>\n",
       "    </tr>\n",
       "    <tr>\n",
       "      <th>3</th>\n",
       "      <td>3</td>\n",
       "      <td>0</td>\n",
       "      <td>3</td>\n",
       "      <td>57.15</td>\n",
       "      <td>52.366667</td>\n",
       "      <td>-2.15</td>\n",
       "      <td>4.883333</td>\n",
       "      <td>698.243287</td>\n",
       "    </tr>\n",
       "    <tr>\n",
       "      <th>4</th>\n",
       "      <td>4</td>\n",
       "      <td>0</td>\n",
       "      <td>4</td>\n",
       "      <td>57.15</td>\n",
       "      <td>39.916667</td>\n",
       "      <td>-2.15</td>\n",
       "      <td>32.916667</td>\n",
       "      <td>3164.736857</td>\n",
       "    </tr>\n",
       "  </tbody>\n",
       "</table>\n",
       "</div>"
      ],
      "text/plain": [
       "   Unnamed: 0  Start  Target  StartLatitude  TargetLatitude  StartLongitude  \\\n",
       "0           0      0       0          57.15       57.150000           -2.15   \n",
       "1           1      0       1          57.15      -34.916667           -2.15   \n",
       "2           2      0       2          57.15       36.833333           -2.15   \n",
       "3           3      0       3          57.15       52.366667           -2.15   \n",
       "4           4      0       4          57.15       39.916667           -2.15   \n",
       "\n",
       "   TargetLongitude      Distance  \n",
       "0        -2.150000      0.000000  \n",
       "1       138.600000  16183.676404  \n",
       "2         3.000000   2290.736724  \n",
       "3         4.883333    698.243287  \n",
       "4        32.916667   3164.736857  "
      ]
     },
     "execution_count": 3,
     "metadata": {},
     "output_type": "execute_result"
    }
   ],
   "source": [
    "cities = df['Start'].unique()\n",
    "cities_index = dict(zip(cities, range(len(cities))))\n",
    "df['Start'] = [cities_index[city] for city in df['Start']]\n",
    "df['Target'] = [cities_index[city] for city in df['Target']]\n",
    "df.head()"
   ]
  },
  {
   "cell_type": "code",
   "execution_count": 4,
   "metadata": {},
   "outputs": [],
   "source": [
    "start = df['Start'].to_list()\n",
    "new_df = pd.DataFrame(columns=set(start))\n",
    "\n",
    "for i in start:\n",
    "    rows = df.loc[df['Start'] == i]\n",
    "    distances = rows['Distance'].to_list()\n",
    "    new_df.loc[i] = distances\n",
    "     \n",
    "distance_matrix = new_df.to_numpy()"
   ]
  },
  {
   "cell_type": "code",
   "execution_count": 5,
   "metadata": {},
   "outputs": [],
   "source": [
    "def cal_total_distance(routine):\n",
    "    '''The objective function. input routine, return total distance.\n",
    "    cal_total_distance(np.arange(num_points))\n",
    "    '''\n",
    "    num_points, = routine.shape\n",
    "    return sum([distance_matrix[routine[i % num_points], routine[(i + 1) % num_points]] for i in range(num_points)])"
   ]
  },
  {
   "cell_type": "code",
   "execution_count": 6,
   "metadata": {},
   "outputs": [],
   "source": [
    "def genetic_tsp_variant(args, queue=None):\n",
    "    num_points, max_iter, prob_mut = args\n",
    "    ga_tsp = GA_TSP(func=cal_total_distance, n_dim=num_points, size_pop=50, max_iter=max_iter, prob_mut=prob_mut)\n",
    "    ga_tsp.run()\n",
    "\n",
    "    result = (ga_tsp.best_x, ga_tsp.best_y, args)\n",
    "\n",
    "    if queue:\n",
    "        queue.put(result)\n",
    "    \n",
    "    return result"
   ]
  },
  {
   "cell_type": "code",
   "execution_count": 7,
   "metadata": {},
   "outputs": [],
   "source": [
    "num_points = [len(df['Start'].unique())]\n",
    "max_iterations = [100, 500, 1000]\n",
    "prob_mutations = [0.001, 0.01, 0.05]\n",
    "variations = list(product(num_points, max_iterations, prob_mutations))"
   ]
  },
  {
   "cell_type": "code",
   "execution_count": 8,
   "metadata": {},
   "outputs": [
    {
     "name": "stderr",
     "output_type": "stream",
     "text": [
      "100%|██████████| 9/9 [00:29<00:00,  3.33s/it]"
     ]
    },
    {
     "name": "stdout",
     "output_type": "stream",
     "text": [
      "Took total time of 30.000304222106934 seconds.\n",
      "Best Result was: [242345.39948411] (num_points: 120 max_iter: 1000 prob_mut:0.05)\n",
      "Worst Result was: [735499.64360487] (num_points: 120 max_iter: 100 prob_mut:0.001)\n"
     ]
    },
    {
     "name": "stderr",
     "output_type": "stream",
     "text": [
      "\n"
     ]
    }
   ],
   "source": [
    "results = []\n",
    "start = time.time()\n",
    "for variation in tqdm(variations):\n",
    "    result = genetic_tsp_variant(variation)\n",
    "    results.append(result)\n",
    "\n",
    "\n",
    "total = time.time() - start\n",
    "results = sorted(results, key=lambda x: x[1]) \n",
    "print(f'Took total time of {total} seconds.')\n",
    "print(f'Best Result was: {results[0][1]} (num_points: {results[0][2][0]} max_iter: {results[0][2][1]} prob_mut:{results[0][2][2]})')\n",
    "print(f'Worst Result was: {results[-1][1]} (num_points: {results[-1][2][0]} max_iter: {results[-1][2][1]} prob_mut:{results[-1][2][2]})')"
   ]
  },
  {
   "cell_type": "code",
   "execution_count": 9,
   "metadata": {},
   "outputs": [
    {
     "name": "stdout",
     "output_type": "stream",
     "text": [
      "Took total time of 6.442743301391602 seconds.\n",
      "Best Result was: [225104.33251168] (num_points: 120 max_iter: 1000 prob_mut:0.05)\n",
      "Worst Result was: [679442.75619266] (num_points: 120 max_iter: 100 prob_mut:0.001)\n"
     ]
    }
   ],
   "source": [
    "results = []\n",
    "start = time.time()\n",
    "n_cores=mp.cpu_count()\n",
    "\n",
    "pool = mp.Pool(n_cores)\n",
    "results = pool.map(genetic_tsp_variant, variations)\n",
    "pool.close()\n",
    "\n",
    "total = time.time() - start\n",
    "results = sorted(results, key=lambda x: x[1]) \n",
    "print(f'Took total time of {total} seconds.')\n",
    "print(f'Best Result was: {results[0][1]} (num_points: {results[0][2][0]} max_iter: {results[0][2][1]} prob_mut:{results[0][2][2]})')\n",
    "print(f'Worst Result was: {results[-1][1]} (num_points: {results[-1][2][0]} max_iter: {results[-1][2][1]} prob_mut:{results[-1][2][2]})')"
   ]
  },
  {
   "cell_type": "code",
   "execution_count": 10,
   "metadata": {},
   "outputs": [
    {
     "name": "stdout",
     "output_type": "stream",
     "text": [
      "Took total time of 6.572890996932983 seconds.\n",
      "Best Result was: [225104.33251168] (num_points: 120 max_iter: 1000 prob_mut:0.05)\n",
      "Worst Result was: [679442.75619266] (num_points: 120 max_iter: 100 prob_mut:0.001)\n"
     ]
    }
   ],
   "source": [
    "presults = []\n",
    "start = time.time()\n",
    "processes = []\n",
    "queue = mp.Queue()\n",
    "for variant in variations:\n",
    "    p = mp.Process(target=genetic_tsp_variant, args=(variant, queue))\n",
    "    processes.append(p)\n",
    "    p.start()\n",
    "\n",
    "\n",
    "for process in processes:\n",
    "    process.join()\n",
    "\n",
    "presults = [queue.get() for _ in processes]\n",
    "\n",
    "total = time.time() - start\n",
    "presults = sorted(presults, key=lambda x: x[1]) \n",
    "print(f'Took total time of {total} seconds.')\n",
    "print(f'Best Result was: {presults[0][1]} (num_points: {presults[0][2][0]} max_iter: {presults[0][2][1]} prob_mut:{presults[0][2][2]})')\n",
    "print(f'Worst Result was: {presults[-1][1]} (num_points: {presults[-1][2][0]} max_iter: {presults[-1][2][1]} prob_mut:{presults[-1][2][2]})')"
   ]
  }
 ],
 "metadata": {
  "interpreter": {
   "hash": "8034bb673411d43a8ead9cbef07622a87e42e0a8dafdb262a436f0c34095fc72"
  },
  "kernelspec": {
   "display_name": "Python 3.9.7 64-bit ('base': conda)",
   "language": "python",
   "name": "python3"
  },
  "language_info": {
   "codemirror_mode": {
    "name": "ipython",
    "version": 3
   },
   "file_extension": ".py",
   "mimetype": "text/x-python",
   "name": "python",
   "nbconvert_exporter": "python",
   "pygments_lexer": "ipython3",
   "version": "3.9.7"
  },
  "orig_nbformat": 4
 },
 "nbformat": 4,
 "nbformat_minor": 2
}
