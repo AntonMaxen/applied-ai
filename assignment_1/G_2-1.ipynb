{
 "cells": [
  {
   "cell_type": "code",
   "execution_count": 2,
   "metadata": {},
   "outputs": [],
   "source": [
    "from sko.PSO import PSO\n",
    "import numpy as np"
   ]
  },
  {
   "cell_type": "code",
   "execution_count": 109,
   "metadata": {},
   "outputs": [],
   "source": [
    "def max_function(x):\n",
    "    x1, x2 = x\n",
    "    return -((1 / (1 + np.abs(x1) + np.abs(x2))) * (np.cos(x1) + np.sin(x2))**2)"
   ]
  },
  {
   "cell_type": "markdown",
   "metadata": {},
   "source": [
    "# PSO to solve maximum optimization problem"
   ]
  },
  {
   "cell_type": "code",
   "execution_count": 110,
   "metadata": {},
   "outputs": [
    {
     "name": "stdout",
     "output_type": "stream",
     "text": [
      "Best coords max_problem::  [4.38584470e-12 1.10421078e+00] Best value max_problem: [-1.70318649]\n"
     ]
    }
   ],
   "source": [
    "pso = PSO(func=max_function, n_dim=2, pop=400, max_iter=30, lb=[-5, -5], ub=[5, 5], w=0.2, c1=0.9, c2=0.9)\n",
    "pso.run()\n",
    "print('Best coords max_problem:: ', pso.gbest_x, 'Best value max_problem:', pso.gbest_y)"
   ]
  },
  {
   "cell_type": "code",
   "execution_count": 6,
   "metadata": {},
   "outputs": [
    {
     "data": {
      "image/png": "[encoded data removed]",
      "text/plain": [
       "<Figure size 432x288 with 1 Axes>"
      ]
     },
     "metadata": {
      "needs_background": "light"
     },
     "output_type": "display_data"
    }
   ],
   "source": [
    "import matplotlib.pyplot as plt\n",
    "\n",
    "plt.plot(pso.gbest_y_hist)\n",
    "plt.show()"
   ]
  },
  {
   "cell_type": "code",
   "execution_count": 111,
   "metadata": {},
   "outputs": [
    {
     "name": "stdout",
     "output_type": "stream",
     "text": [
      "(array([3.72529030e-08, 1.10421215e+00]), array([-1.70318646]))\n"
     ]
    }
   ],
   "source": [
    "from sko.GA import GA\n",
    "from sko.operators import ranking, selection, crossover, mutation\n",
    "\n",
    "ga = GA(func=max_function, n_dim=2, size_pop=20, max_iter=2000, prob_mut=0.01,\n",
    "        lb=[-5, -5], ub=[5, 5], precision=[1e-7, 1e-7])\n",
    "\n",
    "ga.register(operator_name='selection', operator=selection.selection_tournament)\n",
    "ga.register(operator_name='ranking', operator=ranking.ranking). \\\n",
    "    register(operator_name='crossover', operator=crossover.crossover_2point). \\\n",
    "    register(operator_name='mutation', operator=mutation.mutation)\n",
    "# %% Run ga\n",
    "result = ga.run()\n",
    "print(result)"
   ]
  }
 ],
 "metadata": {
  "interpreter": {
   "hash": "7558c386471bf4cc071ffc6af29272f738203cdc9df0b40c819d2f06cdbc9337"
  },
  "kernelspec": {
   "display_name": "Python 3.9.7 64-bit ('venv': venv)",
   "language": "python",
   "name": "python3"
  },
  "language_info": {
   "codemirror_mode": {
    "name": "ipython",
    "version": 3
   },
   "file_extension": ".py",
   "mimetype": "text/x-python",
   "name": "python",
   "nbconvert_exporter": "python",
   "pygments_lexer": "ipython3",
   "version": "3.9.7"
  },
  "orig_nbformat": 4
 },
 "nbformat": 4,
 "nbformat_minor": 2
}
